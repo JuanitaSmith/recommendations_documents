{
 "cells": [
  {
   "cell_type": "markdown",
   "metadata": {},
   "source": [
    "# Recommendations with IBM\n",
    "\n",
    "In this notebook, I will be applying my recommendation skills on real data from the IBM Watson Studio platform.\n",
    "\n",
    "\n",
    "## Table of Contents\n",
    "\n",
    "I. [Exploratory Data Analysis](#Exploratory-Data-Analysis)<br>\n",
    "II. [Rank Based Recommendations](#Rank)<br>\n",
    "III. [User-User Based Collaborative Filtering](#User-User)<br>\n",
    "IV. [Content Based Recommendations](#Content-Recs)<br>\n",
    "V. [Matrix Factorization](#Matrix-Fact)<br>\n",
    "VI. [Extras & Concluding](#conclusions)"
   ]
  },
  {
   "cell_type": "code",
   "metadata": {
    "ExecuteTime": {
     "end_time": "2025-03-05T17:06:47.159007Z",
     "start_time": "2025-03-05T17:06:46.752982Z"
    }
   },
   "source": [
    "import matplotlib.pyplot as plt\n",
    "import nltk\n",
    "import numpy as np\n",
    "import pandas as pd\n",
    "import seaborn as sns\n",
    "from scipy.sparse.linalg import svds\n",
    "from sklearn.feature_extraction.text import TfidfVectorizer\n",
    "from sklearn.metrics import mean_squared_error\n",
    "from sklearn.metrics.pairwise import cosine_similarity\n",
    "from sklearn.neighbors import NearestNeighbors\n",
    "from statsmodels.distributions.empirical_distribution import ECDF\n",
    "\n",
    "import tests.project_tests as t\n",
    "\n",
    "nltk.download(['punkt', 'wordnet', 'stopwords', 'averaged_perceptron_tagger', 'punkt_tab'])\n",
    "\n",
    "from nltk.tokenize import word_tokenize\n",
    "from nltk.stem import WordNetLemmatizer\n",
    "from nltk.corpus import stopwords\n",
    "from nltk.corpus import wordnet\n",
    "import re\n",
    "\n",
    "%matplotlib inline\n",
    "sns.set_style(\"whitegrid\")"
   ],
   "outputs": [
    {
     "name": "stderr",
     "output_type": "stream",
     "text": [
      "[nltk_data] Downloading package punkt to\n",
      "[nltk_data]     /Users/juanitasmith/nltk_data...\n",
      "[nltk_data]   Package punkt is already up-to-date!\n",
      "[nltk_data] Downloading package wordnet to\n",
      "[nltk_data]     /Users/juanitasmith/nltk_data...\n",
      "[nltk_data]   Package wordnet is already up-to-date!\n",
      "[nltk_data] Downloading package stopwords to\n",
      "[nltk_data]     /Users/juanitasmith/nltk_data...\n",
      "[nltk_data]   Package stopwords is already up-to-date!\n",
      "[nltk_data] Downloading package averaged_perceptron_tagger to\n",
      "[nltk_data]     /Users/juanitasmith/nltk_data...\n",
      "[nltk_data]   Package averaged_perceptron_tagger is already up-to-\n",
      "[nltk_data]       date!\n",
      "[nltk_data] Downloading package punkt_tab to\n",
      "[nltk_data]     /Users/juanitasmith/nltk_data...\n",
      "[nltk_data]   Package punkt_tab is already up-to-date!\n"
     ]
    }
   ],
   "execution_count": 1
  },
  {
   "cell_type": "code",
   "metadata": {
    "ExecuteTime": {
     "end_time": "2025-03-05T17:06:47.235089Z",
     "start_time": "2025-03-05T17:06:47.163022Z"
    }
   },
   "source": [
    "dtype_dict = {'article_id': int}\n",
    "df = pd.read_csv('../data/user_item_interactions.csv', dtype=dtype_dict)\n",
    "df_content = pd.read_csv('../data/articles_community.csv')\n",
    "del df['Unnamed: 0']\n",
    "del df_content['Unnamed: 0']\n",
    "\n",
    "# Show df to get an idea of the data\n",
    "df.head()"
   ],
   "outputs": [
    {
     "data": {
      "text/plain": [
       "   article_id                                              title  \\\n",
       "0        1430  using pixiedust for fast, flexible, and easier...   \n",
       "1        1314       healthcare python streaming application demo   \n",
       "2        1429         use deep learning for image classification   \n",
       "3        1338          ml optimization using cognitive assistant   \n",
       "4        1276          deploy your python model as a restful api   \n",
       "\n",
       "                                      email  \n",
       "0  ef5f11f77ba020cd36e1105a00ab868bbdbf7fe7  \n",
       "1  083cbdfa93c8444beaa4c5f5e0f5f9198e4f9e0b  \n",
       "2  b96a4f2e92d8572034b1e9b28f9ac673765cd074  \n",
       "3  06485706b34a5c9bf2a0ecdac41daf7e7654ceb7  \n",
       "4  f01220c46fc92c6e6b161b1849de11faacd7ccb2  "
      ],
      "text/html": [
       "<div>\n",
       "<style scoped>\n",
       "    .dataframe tbody tr th:only-of-type {\n",
       "        vertical-align: middle;\n",
       "    }\n",
       "\n",
       "    .dataframe tbody tr th {\n",
       "        vertical-align: top;\n",
       "    }\n",
       "\n",
       "    .dataframe thead th {\n",
       "        text-align: right;\n",
       "    }\n",
       "</style>\n",
       "<table border=\"1\" class=\"dataframe\">\n",
       "  <thead>\n",
       "    <tr style=\"text-align: right;\">\n",
       "      <th></th>\n",
       "      <th>article_id</th>\n",
       "      <th>title</th>\n",
       "      <th>email</th>\n",
       "    </tr>\n",
       "  </thead>\n",
       "  <tbody>\n",
       "    <tr>\n",
       "      <th>0</th>\n",
       "      <td>1430</td>\n",
       "      <td>using pixiedust for fast, flexible, and easier...</td>\n",
       "      <td>ef5f11f77ba020cd36e1105a00ab868bbdbf7fe7</td>\n",
       "    </tr>\n",
       "    <tr>\n",
       "      <th>1</th>\n",
       "      <td>1314</td>\n",
       "      <td>healthcare python streaming application demo</td>\n",
       "      <td>083cbdfa93c8444beaa4c5f5e0f5f9198e4f9e0b</td>\n",
       "    </tr>\n",
       "    <tr>\n",
       "      <th>2</th>\n",
       "      <td>1429</td>\n",
       "      <td>use deep learning for image classification</td>\n",
       "      <td>b96a4f2e92d8572034b1e9b28f9ac673765cd074</td>\n",
       "    </tr>\n",
       "    <tr>\n",
       "      <th>3</th>\n",
       "      <td>1338</td>\n",
       "      <td>ml optimization using cognitive assistant</td>\n",
       "      <td>06485706b34a5c9bf2a0ecdac41daf7e7654ceb7</td>\n",
       "    </tr>\n",
       "    <tr>\n",
       "      <th>4</th>\n",
       "      <td>1276</td>\n",
       "      <td>deploy your python model as a restful api</td>\n",
       "      <td>f01220c46fc92c6e6b161b1849de11faacd7ccb2</td>\n",
       "    </tr>\n",
       "  </tbody>\n",
       "</table>\n",
       "</div>"
      ]
     },
     "execution_count": 2,
     "metadata": {},
     "output_type": "execute_result"
    }
   ],
   "execution_count": 2
  },
  {
   "cell_type": "code",
   "metadata": {
    "ExecuteTime": {
     "end_time": "2025-03-05T17:06:48.253880Z",
     "start_time": "2025-03-05T17:06:48.248947Z"
    }
   },
   "source": [
    "df.info()"
   ],
   "outputs": [
    {
     "name": "stdout",
     "output_type": "stream",
     "text": [
      "<class 'pandas.core.frame.DataFrame'>\n",
      "RangeIndex: 45993 entries, 0 to 45992\n",
      "Data columns (total 3 columns):\n",
      " #   Column      Non-Null Count  Dtype \n",
      "---  ------      --------------  ----- \n",
      " 0   article_id  45993 non-null  int64 \n",
      " 1   title       45993 non-null  object\n",
      " 2   email       45976 non-null  object\n",
      "dtypes: int64(1), object(2)\n",
      "memory usage: 1.1+ MB\n"
     ]
    }
   ],
   "execution_count": 3
  },
  {
   "cell_type": "code",
   "metadata": {
    "collapsed": true,
    "jupyter": {
     "outputs_hidden": true
    },
    "ExecuteTime": {
     "end_time": "2025-03-05T17:06:48.274014Z",
     "start_time": "2025-03-05T17:06:48.270186Z"
    }
   },
   "source": [
    "# Show df_content to get an idea of the data\n",
    "df_content.head()"
   ],
   "outputs": [
    {
     "data": {
      "text/plain": [
       "                                            doc_body  \\\n",
       "0  Skip navigation Sign in SearchLoading...\\r\\n\\r...   \n",
       "1  No Free Hunch Navigation * kaggle.com\\r\\n\\r\\n ...   \n",
       "2  ☰ * Login\\r\\n * Sign Up\\r\\n\\r\\n * Learning Pat...   \n",
       "3  DATALAYER: HIGH THROUGHPUT, LOW LATENCY AT SCA...   \n",
       "4  Skip navigation Sign in SearchLoading...\\r\\n\\r...   \n",
       "\n",
       "                                     doc_description  \\\n",
       "0  Detect bad readings in real time using Python ...   \n",
       "1  See the forest, see the trees. Here lies the c...   \n",
       "2  Here’s this week’s news in Data Science and Bi...   \n",
       "3  Learn how distributed DBs solve the problem of...   \n",
       "4  This video demonstrates the power of IBM DataS...   \n",
       "\n",
       "                                       doc_full_name doc_status  article_id  \n",
       "0  Detect Malfunctioning IoT Sensors with Streami...       Live           0  \n",
       "1  Communicating data science: A guide to present...       Live           1  \n",
       "2         This Week in Data Science (April 18, 2017)       Live           2  \n",
       "3  DataLayer Conference: Boost the performance of...       Live           3  \n",
       "4      Analyze NY Restaurant data using Spark in DSX       Live           4  "
      ],
      "text/html": [
       "<div>\n",
       "<style scoped>\n",
       "    .dataframe tbody tr th:only-of-type {\n",
       "        vertical-align: middle;\n",
       "    }\n",
       "\n",
       "    .dataframe tbody tr th {\n",
       "        vertical-align: top;\n",
       "    }\n",
       "\n",
       "    .dataframe thead th {\n",
       "        text-align: right;\n",
       "    }\n",
       "</style>\n",
       "<table border=\"1\" class=\"dataframe\">\n",
       "  <thead>\n",
       "    <tr style=\"text-align: right;\">\n",
       "      <th></th>\n",
       "      <th>doc_body</th>\n",
       "      <th>doc_description</th>\n",
       "      <th>doc_full_name</th>\n",
       "      <th>doc_status</th>\n",
       "      <th>article_id</th>\n",
       "    </tr>\n",
       "  </thead>\n",
       "  <tbody>\n",
       "    <tr>\n",
       "      <th>0</th>\n",
       "      <td>Skip navigation Sign in SearchLoading...\\r\\n\\r...</td>\n",
       "      <td>Detect bad readings in real time using Python ...</td>\n",
       "      <td>Detect Malfunctioning IoT Sensors with Streami...</td>\n",
       "      <td>Live</td>\n",
       "      <td>0</td>\n",
       "    </tr>\n",
       "    <tr>\n",
       "      <th>1</th>\n",
       "      <td>No Free Hunch Navigation * kaggle.com\\r\\n\\r\\n ...</td>\n",
       "      <td>See the forest, see the trees. Here lies the c...</td>\n",
       "      <td>Communicating data science: A guide to present...</td>\n",
       "      <td>Live</td>\n",
       "      <td>1</td>\n",
       "    </tr>\n",
       "    <tr>\n",
       "      <th>2</th>\n",
       "      <td>☰ * Login\\r\\n * Sign Up\\r\\n\\r\\n * Learning Pat...</td>\n",
       "      <td>Here’s this week’s news in Data Science and Bi...</td>\n",
       "      <td>This Week in Data Science (April 18, 2017)</td>\n",
       "      <td>Live</td>\n",
       "      <td>2</td>\n",
       "    </tr>\n",
       "    <tr>\n",
       "      <th>3</th>\n",
       "      <td>DATALAYER: HIGH THROUGHPUT, LOW LATENCY AT SCA...</td>\n",
       "      <td>Learn how distributed DBs solve the problem of...</td>\n",
       "      <td>DataLayer Conference: Boost the performance of...</td>\n",
       "      <td>Live</td>\n",
       "      <td>3</td>\n",
       "    </tr>\n",
       "    <tr>\n",
       "      <th>4</th>\n",
       "      <td>Skip navigation Sign in SearchLoading...\\r\\n\\r...</td>\n",
       "      <td>This video demonstrates the power of IBM DataS...</td>\n",
       "      <td>Analyze NY Restaurant data using Spark in DSX</td>\n",
       "      <td>Live</td>\n",
       "      <td>4</td>\n",
       "    </tr>\n",
       "  </tbody>\n",
       "</table>\n",
       "</div>"
      ]
     },
     "execution_count": 4,
     "metadata": {},
     "output_type": "execute_result"
    }
   ],
   "execution_count": 4
  },
  {
   "cell_type": "code",
   "metadata": {
    "ExecuteTime": {
     "end_time": "2025-03-05T17:06:48.358447Z",
     "start_time": "2025-03-05T17:06:48.355437Z"
    }
   },
   "source": [
    "df_content.info()"
   ],
   "outputs": [
    {
     "name": "stdout",
     "output_type": "stream",
     "text": [
      "<class 'pandas.core.frame.DataFrame'>\n",
      "RangeIndex: 1056 entries, 0 to 1055\n",
      "Data columns (total 5 columns):\n",
      " #   Column           Non-Null Count  Dtype \n",
      "---  ------           --------------  ----- \n",
      " 0   doc_body         1042 non-null   object\n",
      " 1   doc_description  1053 non-null   object\n",
      " 2   doc_full_name    1056 non-null   object\n",
      " 3   doc_status       1056 non-null   object\n",
      " 4   article_id       1056 non-null   int64 \n",
      "dtypes: int64(1), object(4)\n",
      "memory usage: 41.4+ KB\n"
     ]
    }
   ],
   "execution_count": 5
  },
  {
   "metadata": {
    "ExecuteTime": {
     "end_time": "2025-03-05T17:06:48.385870Z",
     "start_time": "2025-03-05T17:06:48.376473Z"
    }
   },
   "cell_type": "code",
   "source": "df_content.nunique()",
   "outputs": [
    {
     "data": {
      "text/plain": [
       "doc_body           1036\n",
       "doc_description    1022\n",
       "doc_full_name      1051\n",
       "doc_status            1\n",
       "article_id         1051\n",
       "dtype: int64"
      ]
     },
     "execution_count": 6,
     "metadata": {},
     "output_type": "execute_result"
    }
   ],
   "execution_count": 6
  },
  {
   "metadata": {
    "ExecuteTime": {
     "end_time": "2025-03-05T17:06:48.416783Z",
     "start_time": "2025-03-05T17:06:48.411254Z"
    }
   },
   "cell_type": "code",
   "source": "df.nunique()",
   "outputs": [
    {
     "data": {
      "text/plain": [
       "article_id     714\n",
       "title          714\n",
       "email         5148\n",
       "dtype: int64"
      ]
     },
     "execution_count": 7,
     "metadata": {},
     "output_type": "execute_result"
    }
   ],
   "execution_count": 7
  },
  {
   "cell_type": "markdown",
   "metadata": {},
   "source": [
    "### <a class=\"anchor\" id=\"Exploratory-Data-Analysis\">Part I : Exploratory Data Analysis</a>\n",
    "\n",
    "`1.` What is the distribution of how many articles a user interacts with in the dataset?"
   ]
  },
  {
   "cell_type": "code",
   "metadata": {
    "collapsed": true,
    "jupyter": {
     "outputs_hidden": true
    },
    "ExecuteTime": {
     "end_time": "2025-03-05T17:06:48.457565Z",
     "start_time": "2025-03-05T17:06:48.451242Z"
    }
   },
   "source": [
    "article_distribution = pd.DataFrame(df.groupby(['email'])['article_id'].size())\n",
    "article_distribution.columns = ['document_count']\n",
    "article_distribution.sort_values(by='document_count',\n",
    "                                 ascending=False,\n",
    "                                 inplace=True)\n",
    "article_distribution.head()"
   ],
   "outputs": [
    {
     "data": {
      "text/plain": [
       "                                          document_count\n",
       "email                                                   \n",
       "2b6c0f514c2f2b04ad3c4583407dccd0810469ee             364\n",
       "77959baaa9895a7e2bdc9297f8b27c1b6f2cb52a             363\n",
       "2f5c7feae533ce046f2cb16fb3a29fe00528ed66             170\n",
       "a37adec71b667b297ed2440a9ff7dad427c7ac85             169\n",
       "8510a5010a5d4c89f5b07baac6de80cd12cfaf93             160"
      ],
      "text/html": [
       "<div>\n",
       "<style scoped>\n",
       "    .dataframe tbody tr th:only-of-type {\n",
       "        vertical-align: middle;\n",
       "    }\n",
       "\n",
       "    .dataframe tbody tr th {\n",
       "        vertical-align: top;\n",
       "    }\n",
       "\n",
       "    .dataframe thead th {\n",
       "        text-align: right;\n",
       "    }\n",
       "</style>\n",
       "<table border=\"1\" class=\"dataframe\">\n",
       "  <thead>\n",
       "    <tr style=\"text-align: right;\">\n",
       "      <th></th>\n",
       "      <th>document_count</th>\n",
       "    </tr>\n",
       "    <tr>\n",
       "      <th>email</th>\n",
       "      <th></th>\n",
       "    </tr>\n",
       "  </thead>\n",
       "  <tbody>\n",
       "    <tr>\n",
       "      <th>2b6c0f514c2f2b04ad3c4583407dccd0810469ee</th>\n",
       "      <td>364</td>\n",
       "    </tr>\n",
       "    <tr>\n",
       "      <th>77959baaa9895a7e2bdc9297f8b27c1b6f2cb52a</th>\n",
       "      <td>363</td>\n",
       "    </tr>\n",
       "    <tr>\n",
       "      <th>2f5c7feae533ce046f2cb16fb3a29fe00528ed66</th>\n",
       "      <td>170</td>\n",
       "    </tr>\n",
       "    <tr>\n",
       "      <th>a37adec71b667b297ed2440a9ff7dad427c7ac85</th>\n",
       "      <td>169</td>\n",
       "    </tr>\n",
       "    <tr>\n",
       "      <th>8510a5010a5d4c89f5b07baac6de80cd12cfaf93</th>\n",
       "      <td>160</td>\n",
       "    </tr>\n",
       "  </tbody>\n",
       "</table>\n",
       "</div>"
      ]
     },
     "execution_count": 8,
     "metadata": {},
     "output_type": "execute_result"
    }
   ],
   "execution_count": 8
  },
  {
   "cell_type": "code",
   "metadata": {
    "ExecuteTime": {
     "end_time": "2025-03-05T17:06:48.506195Z",
     "start_time": "2025-03-05T17:06:48.502156Z"
    }
   },
   "source": [
    "article_distribution.describe()"
   ],
   "outputs": [
    {
     "data": {
      "text/plain": [
       "       document_count\n",
       "count     5148.000000\n",
       "mean         8.930847\n",
       "std         16.802267\n",
       "min          1.000000\n",
       "25%          1.000000\n",
       "50%          3.000000\n",
       "75%          9.000000\n",
       "max        364.000000"
      ],
      "text/html": [
       "<div>\n",
       "<style scoped>\n",
       "    .dataframe tbody tr th:only-of-type {\n",
       "        vertical-align: middle;\n",
       "    }\n",
       "\n",
       "    .dataframe tbody tr th {\n",
       "        vertical-align: top;\n",
       "    }\n",
       "\n",
       "    .dataframe thead th {\n",
       "        text-align: right;\n",
       "    }\n",
       "</style>\n",
       "<table border=\"1\" class=\"dataframe\">\n",
       "  <thead>\n",
       "    <tr style=\"text-align: right;\">\n",
       "      <th></th>\n",
       "      <th>document_count</th>\n",
       "    </tr>\n",
       "  </thead>\n",
       "  <tbody>\n",
       "    <tr>\n",
       "      <th>count</th>\n",
       "      <td>5148.000000</td>\n",
       "    </tr>\n",
       "    <tr>\n",
       "      <th>mean</th>\n",
       "      <td>8.930847</td>\n",
       "    </tr>\n",
       "    <tr>\n",
       "      <th>std</th>\n",
       "      <td>16.802267</td>\n",
       "    </tr>\n",
       "    <tr>\n",
       "      <th>min</th>\n",
       "      <td>1.000000</td>\n",
       "    </tr>\n",
       "    <tr>\n",
       "      <th>25%</th>\n",
       "      <td>1.000000</td>\n",
       "    </tr>\n",
       "    <tr>\n",
       "      <th>50%</th>\n",
       "      <td>3.000000</td>\n",
       "    </tr>\n",
       "    <tr>\n",
       "      <th>75%</th>\n",
       "      <td>9.000000</td>\n",
       "    </tr>\n",
       "    <tr>\n",
       "      <th>max</th>\n",
       "      <td>364.000000</td>\n",
       "    </tr>\n",
       "  </tbody>\n",
       "</table>\n",
       "</div>"
      ]
     },
     "execution_count": 9,
     "metadata": {},
     "output_type": "execute_result"
    }
   ],
   "execution_count": 9
  },
  {
   "cell_type": "code",
   "metadata": {
    "ExecuteTime": {
     "end_time": "2025-03-05T17:07:06.386771Z",
     "start_time": "2025-03-05T17:06:48.541715Z"
    }
   },
   "source": [
    "plt.figure(figsize=(14, 6))\n",
    "avg_count = round(article_distribution['document_count'].mean(), 0)\n",
    "ax = sns.stripplot(x='email',\n",
    "                   y='document_count',\n",
    "                   data=article_distribution,\n",
    "                   jitter=False)\n",
    "ax.axhline(avg_count, color='r', linestyle='--')\n",
    "plt.text(avg_count + 300,\n",
    "         avg_count, 'Mean: {}'.format(avg_count),\n",
    "         fontsize=10,\n",
    "         horizontalalignment='right',\n",
    "         verticalalignment='top')\n",
    "ax.set(xticklabels=[])\n",
    "ax.set(xlabel='Users')\n",
    "ax.set(title='Distribution of articles a user interacts with')\n",
    "ax.set(ylabel='Number of articles read')\n",
    "plt.show()"
   ],
   "outputs": [
    {
     "data": {
      "text/plain": [
       "<Figure size 1400x600 with 1 Axes>"
      ],
      "image/png": "[encoded data removed]"
     },
     "metadata": {},
     "output_type": "display_data"
    }
   ],
   "execution_count": 10
  },
  {
   "metadata": {},
   "cell_type": "markdown",
   "source": [
    "**Observations:** <br>\n",
    "On average, users interact with 9 documents, which seems quite low.\n",
    "The top 25% of users have much higher interactions with up to 350 documents."
   ]
  },
  {
   "cell_type": "code",
   "metadata": {
    "collapsed": true,
    "jupyter": {
     "outputs_hidden": true
    },
    "ExecuteTime": {
     "end_time": "2025-03-05T17:07:06.404526Z",
     "start_time": "2025-03-05T17:07:06.402774Z"
    }
   },
   "source": [
    "# Fill in the median and maximum number of user_article interactions below\n",
    "# 50% of individuals interact with ____ number of articles or fewer.\n",
    "median_val = 3\n",
    "\n",
    "# The maximum number of user-article interactions by any 1 user is ______.\n",
    "max_views_by_user = 364"
   ],
   "outputs": [],
   "execution_count": 11
  },
  {
   "cell_type": "markdown",
   "metadata": {},
   "source": "`2.` Explore and remove duplicate articles from the **df_content** dataframe."
  },
  {
   "cell_type": "code",
   "metadata": {
    "ExecuteTime": {
     "end_time": "2025-03-05T17:07:06.424555Z",
     "start_time": "2025-03-05T17:07:06.422031Z"
    }
   },
   "source": [
    "print('There are {} duplicate articles'.format(\n",
    "    df_content.article_id.duplicated().sum()))"
   ],
   "outputs": [
    {
     "name": "stdout",
     "output_type": "stream",
     "text": [
      "There are 5 duplicate articles\n"
     ]
    }
   ],
   "execution_count": 12
  },
  {
   "cell_type": "code",
   "metadata": {
    "collapsed": true,
    "jupyter": {
     "outputs_hidden": true
    },
    "ExecuteTime": {
     "end_time": "2025-03-05T17:07:06.432958Z",
     "start_time": "2025-03-05T17:07:06.430641Z"
    }
   },
   "source": [
    "# Remove any rows that have the same article_id - only keep the first\n",
    "df_content.drop_duplicates(['article_id'], keep='first', inplace=True)\n",
    "print('There are {} duplicate articles'.format(\n",
    "    df_content.article_id.duplicated().sum()))"
   ],
   "outputs": [
    {
     "name": "stdout",
     "output_type": "stream",
     "text": [
      "There are 0 duplicate articles\n"
     ]
    }
   ],
   "execution_count": 13
  },
  {
   "metadata": {
    "ExecuteTime": {
     "end_time": "2025-03-05T17:07:06.448357Z",
     "start_time": "2025-03-05T17:07:06.446372Z"
    }
   },
   "cell_type": "code",
   "source": [
    "# Are there documents with duplicate titles?\n",
    "print('There are {} duplicate articles'.format(\n",
    "    df_content.doc_full_name.duplicated().sum()))"
   ],
   "outputs": [
    {
     "name": "stdout",
     "output_type": "stream",
     "text": [
      "There are 0 duplicate articles\n"
     ]
    }
   ],
   "execution_count": 14
  },
  {
   "metadata": {
    "ExecuteTime": {
     "end_time": "2025-03-05T17:07:06.455888Z",
     "start_time": "2025-03-05T17:07:06.453652Z"
    }
   },
   "cell_type": "code",
   "source": [
    "# In addition, remove null values from df_contents\n",
    "df_content.dropna(subset=['doc_description', 'doc_body'], inplace=True)"
   ],
   "outputs": [],
   "execution_count": 15
  },
  {
   "cell_type": "markdown",
   "metadata": {},
   "source": [
    "`3.` Use the cells below to find:\n",
    "\n",
    "**a.** The number of unique articles that have an interaction with a user.  \n",
    "**b.** The number of unique articles in the dataset (whether they have any interactions or not).<br>\n",
    "**c.** The number of unique users in the dataset. (excluding null values) <br>\n",
    "**d.** The number of user-article interactions in the dataset."
   ]
  },
  {
   "metadata": {},
   "cell_type": "markdown",
   "source": "**a.** The number of unique articles that have an interaction with a user."
  },
  {
   "metadata": {
    "ExecuteTime": {
     "end_time": "2025-03-05T17:07:06.465670Z",
     "start_time": "2025-03-05T17:07:06.463524Z"
    }
   },
   "cell_type": "code",
   "source": "df.article_id.nunique()",
   "outputs": [
    {
     "data": {
      "text/plain": [
       "714"
      ]
     },
     "execution_count": 16,
     "metadata": {},
     "output_type": "execute_result"
    }
   ],
   "execution_count": 16
  },
  {
   "metadata": {},
   "cell_type": "markdown",
   "source": "**b.** The number of unique articles in the dataset (whether they have any interactions or not).<br>"
  },
  {
   "cell_type": "code",
   "metadata": {
    "ExecuteTime": {
     "end_time": "2025-03-05T17:07:06.472464Z",
     "start_time": "2025-03-05T17:07:06.470516Z"
    }
   },
   "source": [
    "# b. The number of unique articles in the dataset\n",
    "# (whether they have any interactions or not)\n",
    "df_content.article_id.nunique()"
   ],
   "outputs": [
    {
     "data": {
      "text/plain": [
       "1034"
      ]
     },
     "execution_count": 17,
     "metadata": {},
     "output_type": "execute_result"
    }
   ],
   "execution_count": 17
  },
  {
   "metadata": {},
   "cell_type": "markdown",
   "source": "**c.** The number of unique users in the dataset. (excluding null values) <br>"
  },
  {
   "metadata": {
    "ExecuteTime": {
     "end_time": "2025-03-05T17:07:06.482372Z",
     "start_time": "2025-03-05T17:07:06.479955Z"
    }
   },
   "cell_type": "code",
   "source": "df.email.nunique()",
   "outputs": [
    {
     "data": {
      "text/plain": [
       "5148"
      ]
     },
     "execution_count": 18,
     "metadata": {},
     "output_type": "execute_result"
    }
   ],
   "execution_count": 18
  },
  {
   "metadata": {},
   "cell_type": "markdown",
   "source": "**d.** The number of user-article interactions in the dataset."
  },
  {
   "metadata": {
    "ExecuteTime": {
     "end_time": "2025-03-05T17:07:06.488753Z",
     "start_time": "2025-03-05T17:07:06.487119Z"
    }
   },
   "cell_type": "code",
   "source": "df.shape",
   "outputs": [
    {
     "data": {
      "text/plain": [
       "(45993, 3)"
      ]
     },
     "execution_count": 19,
     "metadata": {},
     "output_type": "execute_result"
    }
   ],
   "execution_count": 19
  },
  {
   "cell_type": "code",
   "metadata": {
    "collapsed": true,
    "jupyter": {
     "outputs_hidden": true
    },
    "ExecuteTime": {
     "end_time": "2025-03-05T17:07:06.497774Z",
     "start_time": "2025-03-05T17:07:06.496296Z"
    }
   },
   "source": [
    "unique_articles = 714  # The number of articles with interactions\n",
    "total_articles = 1051  # Number of total articles\n",
    "unique_users = 5148  # The number of unique users\n",
    "user_article_interactions = 45993  # The number of user-article interactions"
   ],
   "outputs": [],
   "execution_count": 20
  },
  {
   "cell_type": "markdown",
   "metadata": {},
   "source": [
    "`4.` Use the cells below to find the most viewed **article_id**, as well as how often it was viewed.  After talking to the company leaders, the `email_mapper` function was deemed a reasonable way to map users to ids.  There were a small number of null values, and it was found that all of these null values likely belonged to a single user (which is how they are stored using the function below)."
   ]
  },
  {
   "cell_type": "code",
   "metadata": {
    "collapsed": true,
    "jupyter": {
     "outputs_hidden": true
    },
    "ExecuteTime": {
     "end_time": "2025-03-05T17:07:06.505343Z",
     "start_time": "2025-03-05T17:07:06.502833Z"
    }
   },
   "source": [
    "# display the top 10 viewed articles\n",
    "df.article_id.value_counts()[:10]"
   ],
   "outputs": [
    {
     "data": {
      "text/plain": [
       "article_id\n",
       "1429    937\n",
       "1330    927\n",
       "1431    671\n",
       "1427    643\n",
       "1364    627\n",
       "1314    614\n",
       "1293    572\n",
       "1170    565\n",
       "1162    512\n",
       "1304    483\n",
       "Name: count, dtype: int64"
      ]
     },
     "execution_count": 21,
     "metadata": {},
     "output_type": "execute_result"
    }
   ],
   "execution_count": 21
  },
  {
   "cell_type": "code",
   "metadata": {
    "collapsed": true,
    "jupyter": {
     "outputs_hidden": true
    },
    "ExecuteTime": {
     "end_time": "2025-03-05T17:07:06.527980Z",
     "start_time": "2025-03-05T17:07:06.526398Z"
    }
   },
   "source": [
    "# The most viewed article in the dataset\n",
    "# as a string with one value following the decimal\n",
    "most_viewed_article_id = '1429.0'\n",
    "\n",
    "# The most viewed article in the dataset was viewed how many times?\n",
    "max_views = 937"
   ],
   "outputs": [],
   "execution_count": 22
  },
  {
   "cell_type": "code",
   "metadata": {
    "collapsed": true,
    "jupyter": {
     "outputs_hidden": true
    },
    "ExecuteTime": {
     "end_time": "2025-03-05T17:07:06.548153Z",
     "start_time": "2025-03-05T17:07:06.546019Z"
    }
   },
   "source": [
    "# If you stored all your results in the variable names above,\n",
    "# you shouldn't need to change anything in this cell\n",
    "\n",
    "sol_1_dict = {\n",
    "    '`50% of individuals have _____ or fewer interactions.`': median_val,\n",
    "    '`The total number of user-article interactions in the dataset is ______.`': user_article_interactions,\n",
    "    '`The maximum number of user-article interactions by any 1 user is ______.`': max_views_by_user,\n",
    "    '`The most viewed article in the dataset was viewed _____ times.`': max_views,\n",
    "    '`The article_id of the most viewed article is ______.`': most_viewed_article_id,\n",
    "    '`The number of unique articles that have at least 1 rating ______.`': unique_articles,\n",
    "    '`The number of unique users in the dataset is ______`': unique_users,\n",
    "    '`The number of unique articles on the IBM platform`': total_articles\n",
    "}\n",
    "\n",
    "# Test your dictionary against the solution\n",
    "t.sol_1_test(sol_1_dict)"
   ],
   "outputs": [
    {
     "name": "stdout",
     "output_type": "stream",
     "text": [
      "It looks like you have everything right here! Nice job!\n"
     ]
    }
   ],
   "execution_count": 23
  },
  {
   "metadata": {
    "ExecuteTime": {
     "end_time": "2025-03-05T17:07:06.554554Z",
     "start_time": "2025-03-05T17:07:06.552151Z"
    }
   },
   "cell_type": "code",
   "source": [
    "# extra checks for null values in df_content\n",
    "df_content.isnull().sum()"
   ],
   "outputs": [
    {
     "data": {
      "text/plain": [
       "doc_body           0\n",
       "doc_description    0\n",
       "doc_full_name      0\n",
       "doc_status         0\n",
       "article_id         0\n",
       "dtype: int64"
      ]
     },
     "execution_count": 24,
     "metadata": {},
     "output_type": "execute_result"
    }
   ],
   "execution_count": 24
  },
  {
   "metadata": {
    "ExecuteTime": {
     "end_time": "2025-03-05T17:07:06.584919Z",
     "start_time": "2025-03-05T17:07:06.581452Z"
    }
   },
   "cell_type": "code",
   "source": [
    "# Are there any interactions with articles without a body?\n",
    "null_content = df_content[df_content.doc_body.isnull()]\n",
    "null_interactions = null_content.merge(df, how='inner', on='article_id')\n",
    "len(null_interactions)"
   ],
   "outputs": [
    {
     "data": {
      "text/plain": [
       "0"
      ]
     },
     "execution_count": 25,
     "metadata": {},
     "output_type": "execute_result"
    }
   ],
   "execution_count": 25
  },
  {
   "metadata": {
    "ExecuteTime": {
     "end_time": "2025-03-05T17:07:06.602647Z",
     "start_time": "2025-03-05T17:07:06.600562Z"
    }
   },
   "cell_type": "code",
   "source": "df_content.dropna(subset=['doc_body'], inplace=True)",
   "outputs": [],
   "execution_count": 26
  },
  {
   "metadata": {
    "collapsed": true,
    "jupyter": {
     "outputs_hidden": true
    },
    "ExecuteTime": {
     "end_time": "2025-03-05T17:07:06.619783Z",
     "start_time": "2025-03-05T17:07:06.611410Z"
    }
   },
   "cell_type": "code",
   "source": [
    "# No need to change the code here - this will be helpful for later parts of the notebook\n",
    "# Run this cell to map the user email to a user_id column and remove the email column\n",
    "\n",
    "def email_mapper(df):\n",
    "    coded_dict = dict()\n",
    "    cter = 1\n",
    "    email_encoded = []\n",
    "\n",
    "    for val in df['email']:\n",
    "        if val not in coded_dict:\n",
    "            coded_dict[val] = cter\n",
    "            cter+=1\n",
    "\n",
    "        email_encoded.append(coded_dict[val])\n",
    "    return email_encoded\n",
    "\n",
    "email_encoded = email_mapper(df)\n",
    "del df['email']\n",
    "df['user_id'] = email_encoded"
   ],
   "outputs": [],
   "execution_count": 27
  },
  {
   "metadata": {
    "ExecuteTime": {
     "end_time": "2025-03-05T17:11:39.404211Z",
     "start_time": "2025-03-05T17:11:39.361672Z"
    }
   },
   "cell_type": "code",
   "source": [
    "# write the cleaned-up file back to disk\n",
    "df.to_csv('../data/user_item_interactions_clean.csv')\n",
    "\n",
    "# show header\n",
    "df.head()"
   ],
   "outputs": [
    {
     "data": {
      "text/plain": [
       "   article_id                                              title  user_id\n",
       "0        1430  using pixiedust for fast, flexible, and easier...        1\n",
       "1        1314       healthcare python streaming application demo        2\n",
       "2        1429         use deep learning for image classification        3\n",
       "3        1338          ml optimization using cognitive assistant        4\n",
       "4        1276          deploy your python model as a restful api        5"
      ],
      "text/html": [
       "<div>\n",
       "<style scoped>\n",
       "    .dataframe tbody tr th:only-of-type {\n",
       "        vertical-align: middle;\n",
       "    }\n",
       "\n",
       "    .dataframe tbody tr th {\n",
       "        vertical-align: top;\n",
       "    }\n",
       "\n",
       "    .dataframe thead th {\n",
       "        text-align: right;\n",
       "    }\n",
       "</style>\n",
       "<table border=\"1\" class=\"dataframe\">\n",
       "  <thead>\n",
       "    <tr style=\"text-align: right;\">\n",
       "      <th></th>\n",
       "      <th>article_id</th>\n",
       "      <th>title</th>\n",
       "      <th>user_id</th>\n",
       "    </tr>\n",
       "  </thead>\n",
       "  <tbody>\n",
       "    <tr>\n",
       "      <th>0</th>\n",
       "      <td>1430</td>\n",
       "      <td>using pixiedust for fast, flexible, and easier...</td>\n",
       "      <td>1</td>\n",
       "    </tr>\n",
       "    <tr>\n",
       "      <th>1</th>\n",
       "      <td>1314</td>\n",
       "      <td>healthcare python streaming application demo</td>\n",
       "      <td>2</td>\n",
       "    </tr>\n",
       "    <tr>\n",
       "      <th>2</th>\n",
       "      <td>1429</td>\n",
       "      <td>use deep learning for image classification</td>\n",
       "      <td>3</td>\n",
       "    </tr>\n",
       "    <tr>\n",
       "      <th>3</th>\n",
       "      <td>1338</td>\n",
       "      <td>ml optimization using cognitive assistant</td>\n",
       "      <td>4</td>\n",
       "    </tr>\n",
       "    <tr>\n",
       "      <th>4</th>\n",
       "      <td>1276</td>\n",
       "      <td>deploy your python model as a restful api</td>\n",
       "      <td>5</td>\n",
       "    </tr>\n",
       "  </tbody>\n",
       "</table>\n",
       "</div>"
      ]
     },
     "execution_count": 30,
     "metadata": {},
     "output_type": "execute_result"
    }
   ],
   "execution_count": 30
  },
  {
   "metadata": {
    "ExecuteTime": {
     "end_time": "2025-03-05T17:11:39.423998Z",
     "start_time": "2025-03-05T17:11:39.421442Z"
    }
   },
   "cell_type": "code",
   "source": [
    "# Which documents does user 1 like to read?\n",
    "set(df.loc[df['user_id'] == 1]['title'])"
   ],
   "outputs": [
    {
     "data": {
      "text/plain": [
       "{'access db2 warehouse on cloud and db2 with python',\n",
       " 'analyze db2 warehouse on cloud data in rstudio in dsx',\n",
       " 'apache spark lab, part 1: basic concepts',\n",
       " 'categorize urban density',\n",
       " 'classify tumors with machine learning',\n",
       " 'country statistics: life expectancy at birth',\n",
       " 'deep learning with tensorflow course by big data university',\n",
       " 'fighting gerrymandering: using data science to draw fairer congressional districts',\n",
       " 'finding optimal locations of new store using decision optimization',\n",
       " 'gosales transactions for naive bayes model',\n",
       " 'introducing ibm watson studio ',\n",
       " 'introduction to market basket analysis in\\xa0python',\n",
       " 'jupyter notebook tutorial',\n",
       " 'new shiny cheat sheet and video tutorial',\n",
       " 'predict loan applicant behavior with tensorflow neural networking',\n",
       " 'putting a human face on machine learning',\n",
       " 'python for loops explained (python for data science basics #5)',\n",
       " 'python if statements explained (python for data science basics #4)',\n",
       " 'rapidly build machine learning flows with dsx',\n",
       " 'sector correlations shiny app',\n",
       " 'shiny 0.13.0',\n",
       " 'shiny: a data scientist’s best friend',\n",
       " 'sudoku',\n",
       " 'super fast string matching in python',\n",
       " 'tensorflow quick tips',\n",
       " 'tidyverse practice: mapping large european cities',\n",
       " 'time series prediction using recurrent neural networks (lstms)',\n",
       " 'uci ml repository: chronic kidney disease data set',\n",
       " 'uci: iris',\n",
       " 'use deep learning for image classification',\n",
       " 'use xgboost, scikit-learn & ibm watson machine learning apis',\n",
       " 'using pixiedust for fast, flexible, and easier data analysis and experimentation',\n",
       " 'visualize car data with brunel',\n",
       " 'welcome to pixiedust',\n",
       " 'working with ibm cloud object storage in python',\n",
       " 'working with ibm cloud object storage in r'}"
      ]
     },
     "execution_count": 31,
     "metadata": {},
     "output_type": "execute_result"
    }
   ],
   "execution_count": 31
  },
  {
   "metadata": {
    "ExecuteTime": {
     "end_time": "2025-03-05T17:11:39.444025Z",
     "start_time": "2025-03-05T17:11:39.441710Z"
    }
   },
   "cell_type": "code",
   "source": "set(df.loc[df['user_id'] == 3193]['title'])",
   "outputs": [
    {
     "data": {
      "text/plain": [
       "{'a tensorflow regression model to predict house values',\n",
       " 'deep learning from scratch i: computational graphs',\n",
       " 'dsx: hybrid mode',\n",
       " 'total population by country',\n",
       " 'uci: sms spam collection',\n",
       " 'use xgboost, scikit-learn & ibm watson machine learning apis'}"
      ]
     },
     "execution_count": 32,
     "metadata": {},
     "output_type": "execute_result"
    }
   ],
   "execution_count": 32
  },
  {
   "metadata": {
    "ExecuteTime": {
     "end_time": "2025-03-05T17:11:39.487466Z",
     "start_time": "2025-03-05T17:11:39.486114Z"
    }
   },
   "cell_type": "code",
   "source": "",
   "outputs": [],
   "execution_count": null
  },
  {
   "metadata": {
    "ExecuteTime": {
     "end_time": "2025-03-05T17:11:39.507064Z",
     "start_time": "2025-03-05T17:11:39.504072Z"
    }
   },
   "cell_type": "code",
   "source": "set(df.loc[df['user_id'] == 4178]['title'])",
   "outputs": [
    {
     "data": {
      "text/plain": [
       "{'breast cancer detection with xgboost, wml and scikit',\n",
       " 'deploy your python model as a restful api',\n",
       " 'from scikit-learn model to cloud with wml client',\n",
       " 'visualize car data with brunel'}"
      ]
     },
     "execution_count": 33,
     "metadata": {},
     "output_type": "execute_result"
    }
   ],
   "execution_count": 33
  },
  {
   "cell_type": "markdown",
   "metadata": {},
   "source": [
    "### <a class=\"anchor\" id=\"Rank\">Part II: Rank-Based Recommendations</a>\n",
    "\n",
    "Unlike in the earlier lessons, we don't actually have ratings for whether a user liked an article or not.  We only know that a user has interacted with an article.  In these cases, the popularity of an article can really only be based on how often an article was interacted with.\n",
    "\n",
    "`1.`Return the **n** top articles ordered with most interactions as the top."
   ]
  },
  {
   "cell_type": "code",
   "metadata": {
    "collapsed": true,
    "jupyter": {
     "outputs_hidden": true
    },
    "ExecuteTime": {
     "end_time": "2025-03-05T17:11:39.539110Z",
     "start_time": "2025-03-05T17:11:39.536877Z"
    }
   },
   "source": [
    "def get_top_articles(n, df=df):\n",
    "    \"\"\"\n",
    "    Find top n articles from interactions\n",
    "\n",
    "    INPUT:\n",
    "    n - (int) the number of top articles to return\n",
    "    df - (pandas dataframe) df as defined at the top of the notebook\n",
    "\n",
    "    OUTPUT:\n",
    "    top_articles - (list) A list of the top 'n' article titles\n",
    "    \"\"\"\n",
    "\n",
    "    top_article_titles = []\n",
    "    top_articles = get_top_article_ids(n, df)\n",
    "\n",
    "    for id in top_articles:\n",
    "        title = df.loc[df['article_id'] == id]['title'][:1].values[0]\n",
    "        top_article_titles.append(title)\n",
    "\n",
    "    # Return the top article titles from df (not df_content)\n",
    "    return top_article_titles\n",
    "\n",
    "\n",
    "def get_top_article_ids(n, df=df):\n",
    "    \"\"\"\n",
    "    Find the top n article id's from interactions\n",
    "\n",
    "    INPUT:\n",
    "    n - (int) the number of top articles to return\n",
    "    df - (pandas dataframe) df as defined at the top of the notebook\n",
    "\n",
    "    OUTPUT:\n",
    "    top_articles - (list) A list of the top 'n' article titles\n",
    "\n",
    "    \"\"\"\n",
    "\n",
    "    top_articles = list(df.article_id.value_counts()[:n].index)\n",
    "\n",
    "    # Return the top article ids\n",
    "    return top_articles"
   ],
   "outputs": [],
   "execution_count": 34
  },
  {
   "cell_type": "code",
   "metadata": {
    "collapsed": true,
    "jupyter": {
     "outputs_hidden": true
    },
    "ExecuteTime": {
     "end_time": "2025-03-05T17:11:39.572322Z",
     "start_time": "2025-03-05T17:11:39.559864Z"
    }
   },
   "source": [
    "# Test your function by returning the top 5, 10, and 20 articles\n",
    "top_5 = get_top_articles(5)\n",
    "top_10 = get_top_articles(10)\n",
    "top_20 = get_top_articles(20)\n",
    "\n",
    "# Test each of your three lists from above\n",
    "t.sol_2_test(get_top_articles)"
   ],
   "outputs": [
    {
     "name": "stdout",
     "output_type": "stream",
     "text": [
      "Your top_5 looks like the solution list! Nice job.\n",
      "Your top_10 looks like the solution list! Nice job.\n",
      "Your top_20 looks like the solution list! Nice job.\n"
     ]
    }
   ],
   "execution_count": 35
  },
  {
   "metadata": {},
   "cell_type": "markdown",
   "source": "##### Are all article_id's that have interactions also present in the content database ?"
  },
  {
   "metadata": {
    "ExecuteTime": {
     "end_time": "2025-03-05T17:11:39.594172Z",
     "start_time": "2025-03-05T17:11:39.591561Z"
    }
   },
   "cell_type": "code",
   "source": [
    "top_articles = np.array(df.article_id.value_counts().index)\n",
    "len(top_articles)"
   ],
   "outputs": [
    {
     "data": {
      "text/plain": [
       "714"
      ]
     },
     "execution_count": 36,
     "metadata": {},
     "output_type": "execute_result"
    }
   ],
   "execution_count": 36
  },
  {
   "metadata": {
    "ExecuteTime": {
     "end_time": "2025-03-05T17:11:39.617873Z",
     "start_time": "2025-03-05T17:11:39.615508Z"
    }
   },
   "cell_type": "code",
   "source": [
    "articles_in_content = np.array(df_content.article_id.unique())\n",
    "print(len(articles_in_content))\n",
    "articles_in_content"
   ],
   "outputs": [
    {
     "name": "stdout",
     "output_type": "stream",
     "text": [
      "1034\n"
     ]
    },
    {
     "data": {
      "text/plain": [
       "array([   0,    1,    2, ..., 1047, 1048, 1050])"
      ]
     },
     "execution_count": 37,
     "metadata": {},
     "output_type": "execute_result"
    }
   ],
   "execution_count": 37
  },
  {
   "metadata": {
    "ExecuteTime": {
     "end_time": "2025-03-05T17:11:39.642718Z",
     "start_time": "2025-03-05T17:11:39.640729Z"
    }
   },
   "cell_type": "code",
   "source": [
    "top_articles_not_in_content = np.setdiff1d(\n",
    "    top_articles, articles_in_content)\n",
    "\n",
    "print(len(top_articles_not_in_content))"
   ],
   "outputs": [
    {
     "name": "stdout",
     "output_type": "stream",
     "text": [
      "277\n"
     ]
    }
   ],
   "execution_count": 38
  },
  {
   "metadata": {
    "ExecuteTime": {
     "end_time": "2025-03-05T17:11:39.667229Z",
     "start_time": "2025-03-05T17:11:39.664308Z"
    }
   },
   "cell_type": "code",
   "source": "df.user_id.value_counts()[:100]",
   "outputs": [
    {
     "data": {
      "text/plain": [
       "user_id\n",
       "23      364\n",
       "3782    363\n",
       "98      170\n",
       "3764    169\n",
       "203     160\n",
       "       ... \n",
       "3637     59\n",
       "125      59\n",
       "668      59\n",
       "321      59\n",
       "1059     59\n",
       "Name: count, Length: 100, dtype: int64"
      ]
     },
     "execution_count": 39,
     "metadata": {},
     "output_type": "execute_result"
    }
   ],
   "execution_count": 39
  },
  {
   "metadata": {},
   "cell_type": "markdown",
   "source": [
    "**Observation:**\n",
    "277 articles are missing in df_content that are present in df.\n",
    "We have interactions but not details about the content.\n",
    "Because this is a strict template provided by Udacity,\n",
    "I will have these records in this notebook,\n",
    "but will remove in them in the webapp as next step"
   ]
  },
  {
   "cell_type": "markdown",
   "metadata": {},
   "source": [
    "### <a class=\"anchor\" id=\"User-User\">Part III: User-User Based Collaborative Filtering</a>\n",
    "\n",
    "\n",
    "`1.` Use the function below to reformat the **df** dataframe to be shaped with users as the rows and articles as the columns.  \n",
    "\n",
    "* Each **user** should only appear in each **row** once.\n",
    "\n",
    "\n",
    "* Each **article** should only show up in one **column**.  \n",
    "\n",
    "\n",
    "* **If a user has interacted with an article, then place a 1 where the user-row meets for that article-column**.  It does not matter how many times a user has interacted with the article, all entries where a user has interacted with an article should be a 1.  \n",
    "\n",
    "\n",
    "* **If a user has not interacted with an item, then place a zero where the user-row meets for that article-column**. \n",
    "\n",
    "Use the tests to make sure the basic structure of your matrix matches what is expected by the solution."
   ]
  },
  {
   "cell_type": "code",
   "metadata": {
    "collapsed": true,
    "jupyter": {
     "outputs_hidden": true
    },
    "ExecuteTime": {
     "end_time": "2025-03-05T17:11:39.857087Z",
     "start_time": "2025-03-05T17:11:39.696950Z"
    }
   },
   "source": [
    "# create the user-article matrix with 1's and 0's\n",
    "\n",
    "def create_user_item_matrix(df):\n",
    "    \"\"\"\n",
    "    INPUT:\n",
    "    df - pandas dataframe with article_id, title, user_id columns\n",
    "\n",
    "    OUTPUT:\n",
    "    user_item - user item matrix\n",
    "\n",
    "    Description:\n",
    "    Return a matrix with user ids as rows and article ids on the columns\n",
    "    with 1 values where a user interacted with an article and a 0 otherwise\n",
    "    \"\"\"\n",
    "\n",
    "    user_item = pd.crosstab(df.user_id, df.article_id)\n",
    "    user_item = user_item.where(user_item == 0, 1)\n",
    "\n",
    "    return user_item\n",
    "\n",
    "\n",
    "user_item = create_user_item_matrix(df)"
   ],
   "outputs": [],
   "execution_count": 40
  },
  {
   "metadata": {
    "ExecuteTime": {
     "end_time": "2025-03-05T17:11:39.876562Z",
     "start_time": "2025-03-05T17:11:39.871435Z"
    }
   },
   "cell_type": "code",
   "source": "user_item.head()",
   "outputs": [
    {
     "data": {
      "text/plain": [
       "article_id  0     2     4     8     9     12    14    15    16    18    ...  \\\n",
       "user_id                                                                 ...   \n",
       "1              0     0     0     0     0     0     0     0     0     0  ...   \n",
       "2              0     0     0     0     0     0     0     0     0     0  ...   \n",
       "3              0     0     0     0     0     1     0     0     0     0  ...   \n",
       "4              0     0     0     0     0     0     0     0     0     0  ...   \n",
       "5              0     0     0     0     0     0     0     0     0     0  ...   \n",
       "\n",
       "article_id  1434  1435  1436  1437  1439  1440  1441  1442  1443  1444  \n",
       "user_id                                                                 \n",
       "1              0     0     1     0     1     0     0     0     0     0  \n",
       "2              0     0     0     0     0     0     0     0     0     0  \n",
       "3              0     0     1     0     0     0     0     0     0     0  \n",
       "4              0     0     0     0     0     0     0     0     0     0  \n",
       "5              0     0     0     0     0     0     0     0     0     0  \n",
       "\n",
       "[5 rows x 714 columns]"
      ],
      "text/html": [
       "<div>\n",
       "<style scoped>\n",
       "    .dataframe tbody tr th:only-of-type {\n",
       "        vertical-align: middle;\n",
       "    }\n",
       "\n",
       "    .dataframe tbody tr th {\n",
       "        vertical-align: top;\n",
       "    }\n",
       "\n",
       "    .dataframe thead th {\n",
       "        text-align: right;\n",
       "    }\n",
       "</style>\n",
       "<table border=\"1\" class=\"dataframe\">\n",
       "  <thead>\n",
       "    <tr style=\"text-align: right;\">\n",
       "      <th>article_id</th>\n",
       "      <th>0</th>\n",
       "      <th>2</th>\n",
       "      <th>4</th>\n",
       "      <th>8</th>\n",
       "      <th>9</th>\n",
       "      <th>12</th>\n",
       "      <th>14</th>\n",
       "      <th>15</th>\n",
       "      <th>16</th>\n",
       "      <th>18</th>\n",
       "      <th>...</th>\n",
       "      <th>1434</th>\n",
       "      <th>1435</th>\n",
       "      <th>1436</th>\n",
       "      <th>1437</th>\n",
       "      <th>1439</th>\n",
       "      <th>1440</th>\n",
       "      <th>1441</th>\n",
       "      <th>1442</th>\n",
       "      <th>1443</th>\n",
       "      <th>1444</th>\n",
       "    </tr>\n",
       "    <tr>\n",
       "      <th>user_id</th>\n",
       "      <th></th>\n",
       "      <th></th>\n",
       "      <th></th>\n",
       "      <th></th>\n",
       "      <th></th>\n",
       "      <th></th>\n",
       "      <th></th>\n",
       "      <th></th>\n",
       "      <th></th>\n",
       "      <th></th>\n",
       "      <th></th>\n",
       "      <th></th>\n",
       "      <th></th>\n",
       "      <th></th>\n",
       "      <th></th>\n",
       "      <th></th>\n",
       "      <th></th>\n",
       "      <th></th>\n",
       "      <th></th>\n",
       "      <th></th>\n",
       "      <th></th>\n",
       "    </tr>\n",
       "  </thead>\n",
       "  <tbody>\n",
       "    <tr>\n",
       "      <th>1</th>\n",
       "      <td>0</td>\n",
       "      <td>0</td>\n",
       "      <td>0</td>\n",
       "      <td>0</td>\n",
       "      <td>0</td>\n",
       "      <td>0</td>\n",
       "      <td>0</td>\n",
       "      <td>0</td>\n",
       "      <td>0</td>\n",
       "      <td>0</td>\n",
       "      <td>...</td>\n",
       "      <td>0</td>\n",
       "      <td>0</td>\n",
       "      <td>1</td>\n",
       "      <td>0</td>\n",
       "      <td>1</td>\n",
       "      <td>0</td>\n",
       "      <td>0</td>\n",
       "      <td>0</td>\n",
       "      <td>0</td>\n",
       "      <td>0</td>\n",
       "    </tr>\n",
       "    <tr>\n",
       "      <th>2</th>\n",
       "      <td>0</td>\n",
       "      <td>0</td>\n",
       "      <td>0</td>\n",
       "      <td>0</td>\n",
       "      <td>0</td>\n",
       "      <td>0</td>\n",
       "      <td>0</td>\n",
       "      <td>0</td>\n",
       "      <td>0</td>\n",
       "      <td>0</td>\n",
       "      <td>...</td>\n",
       "      <td>0</td>\n",
       "      <td>0</td>\n",
       "      <td>0</td>\n",
       "      <td>0</td>\n",
       "      <td>0</td>\n",
       "      <td>0</td>\n",
       "      <td>0</td>\n",
       "      <td>0</td>\n",
       "      <td>0</td>\n",
       "      <td>0</td>\n",
       "    </tr>\n",
       "    <tr>\n",
       "      <th>3</th>\n",
       "      <td>0</td>\n",
       "      <td>0</td>\n",
       "      <td>0</td>\n",
       "      <td>0</td>\n",
       "      <td>0</td>\n",
       "      <td>1</td>\n",
       "      <td>0</td>\n",
       "      <td>0</td>\n",
       "      <td>0</td>\n",
       "      <td>0</td>\n",
       "      <td>...</td>\n",
       "      <td>0</td>\n",
       "      <td>0</td>\n",
       "      <td>1</td>\n",
       "      <td>0</td>\n",
       "      <td>0</td>\n",
       "      <td>0</td>\n",
       "      <td>0</td>\n",
       "      <td>0</td>\n",
       "      <td>0</td>\n",
       "      <td>0</td>\n",
       "    </tr>\n",
       "    <tr>\n",
       "      <th>4</th>\n",
       "      <td>0</td>\n",
       "      <td>0</td>\n",
       "      <td>0</td>\n",
       "      <td>0</td>\n",
       "      <td>0</td>\n",
       "      <td>0</td>\n",
       "      <td>0</td>\n",
       "      <td>0</td>\n",
       "      <td>0</td>\n",
       "      <td>0</td>\n",
       "      <td>...</td>\n",
       "      <td>0</td>\n",
       "      <td>0</td>\n",
       "      <td>0</td>\n",
       "      <td>0</td>\n",
       "      <td>0</td>\n",
       "      <td>0</td>\n",
       "      <td>0</td>\n",
       "      <td>0</td>\n",
       "      <td>0</td>\n",
       "      <td>0</td>\n",
       "    </tr>\n",
       "    <tr>\n",
       "      <th>5</th>\n",
       "      <td>0</td>\n",
       "      <td>0</td>\n",
       "      <td>0</td>\n",
       "      <td>0</td>\n",
       "      <td>0</td>\n",
       "      <td>0</td>\n",
       "      <td>0</td>\n",
       "      <td>0</td>\n",
       "      <td>0</td>\n",
       "      <td>0</td>\n",
       "      <td>...</td>\n",
       "      <td>0</td>\n",
       "      <td>0</td>\n",
       "      <td>0</td>\n",
       "      <td>0</td>\n",
       "      <td>0</td>\n",
       "      <td>0</td>\n",
       "      <td>0</td>\n",
       "      <td>0</td>\n",
       "      <td>0</td>\n",
       "      <td>0</td>\n",
       "    </tr>\n",
       "  </tbody>\n",
       "</table>\n",
       "<p>5 rows × 714 columns</p>\n",
       "</div>"
      ]
     },
     "execution_count": 41,
     "metadata": {},
     "output_type": "execute_result"
    }
   ],
   "execution_count": 41
  },
  {
   "metadata": {
    "ExecuteTime": {
     "end_time": "2025-03-05T17:11:39.926523Z",
     "start_time": "2025-03-05T17:11:39.925232Z"
    }
   },
   "cell_type": "code",
   "source": "",
   "outputs": [],
   "execution_count": null
  },
  {
   "cell_type": "code",
   "metadata": {
    "collapsed": true,
    "jupyter": {
     "outputs_hidden": true
    },
    "ExecuteTime": {
     "end_time": "2025-03-05T17:11:39.933204Z",
     "start_time": "2025-03-05T17:11:39.929754Z"
    }
   },
   "source": [
    "## Tests: You should just need to run this cell.  Don't change the code.\n",
    "assert user_item.shape[0] == 5149,  \"Oops!  The number of users in the user-article matrix doesn't look right.\"\n",
    "assert user_item.shape[1] == 714,  \"Oops!  The number of articles in the user-article matrix doesn't look right.\"\n",
    "assert user_item.sum(axis=1)[1] == 36,  \"Oops!  The number of articles seen by user 1 doesn't look right.\"\n",
    "print(\"You have passed our quick tests!  Please proceed!\")"
   ],
   "outputs": [
    {
     "name": "stdout",
     "output_type": "stream",
     "text": [
      "You have passed our quick tests!  Please proceed!\n"
     ]
    }
   ],
   "execution_count": 42
  },
  {
   "cell_type": "markdown",
   "metadata": {},
   "source": [
    "`2.` Complete the function below which should take a user_id and provide an ordered list of the most similar users to that user (from most similar to least similar).  The returned result should not contain the provided user_id, as we know that each user is similar to him/herself. Because the results for each user here are binary, it (perhaps) makes sense to compute similarity as the dot product of two users. \n",
    "\n",
    "Use the tests to test your function."
   ]
  },
  {
   "cell_type": "code",
   "metadata": {
    "collapsed": true,
    "jupyter": {
     "outputs_hidden": true
    },
    "ExecuteTime": {
     "end_time": "2025-03-05T17:11:39.945212Z",
     "start_time": "2025-03-05T17:11:39.942475Z"
    }
   },
   "source": [
    "def find_similar_users(user_id, user_item=user_item):\n",
    "    \"\"\"\n",
    "    Computes the similarity of every pair of users based on the dot product\n",
    "\n",
    "    INPUT:\n",
    "    user_id - (int) a user_id\n",
    "    user_item - (pandas dataframe) matrix of users by articles:\n",
    "                1's when a user has interacted with an article, 0 otherwise\n",
    "\n",
    "    OUTPUT:\n",
    "    similar_users - (list) an ordered list where the closest users\n",
    "                    (largest dot product users) are listed first\n",
    "    \"\"\"\n",
    "\n",
    "    # compute the similarity of each user to the provided user\n",
    "    input_user_series = user_item.loc[user_id]\n",
    "    dot_similarity = input_user_series.dot(np.transpose(user_item))\n",
    "\n",
    "    # sort by similarity\n",
    "    dot_similarity.sort_values(ascending=False, inplace=True)\n",
    "\n",
    "    # create list of just the ids\n",
    "    most_similar_users = list(dot_similarity.index)\n",
    "\n",
    "    # drop user id that is same as input\n",
    "    most_similar_users.remove(user_id)\n",
    "\n",
    "    # return a list of the users in order from most to least similar\n",
    "    return most_similar_users\n",
    "\n",
    "\n",
    "def find_similar_users_knn(user_id, user_item=user_item, n=10):\n",
    "    \"\"\"\n",
    "    Computes the similarity of every pair of users based on the KNN\n",
    "\n",
    "    INPUT:\n",
    "    user_id - (int) a user_id\n",
    "    user_item - (pandas dataframe) matrix of users by articles:\n",
    "                1's when a user has interacted with an article, 0 otherwise\n",
    "\n",
    "    OUTPUT:\n",
    "    similar_users - (list) an ordered list where the closest users\n",
    "                    (largest dot product users) are listed first\n",
    "    \"\"\"\n",
    "    knn = NearestNeighbors(n_neighbors=n+1,\n",
    "                           algorithm='auto',\n",
    "                           metric='cosine',\n",
    "                           n_jobs=-1)\n",
    "    knn.fit(user_item)\n",
    "    # contains indexes of similar users\n",
    "    neighbors = knn.kneighbors(user_item.loc[[user_id]],\n",
    "                               return_distance=False).squeeze()\n",
    "    # get user_ids\n",
    "    userids = user_item.iloc[neighbors].index.values.tolist()\n",
    "    userids.remove(user_id)\n",
    "    return userids"
   ],
   "outputs": [],
   "execution_count": 43
  },
  {
   "cell_type": "code",
   "metadata": {
    "collapsed": true,
    "jupyter": {
     "outputs_hidden": true
    },
    "ExecuteTime": {
     "end_time": "2025-03-05T17:11:39.982455Z",
     "start_time": "2025-03-05T17:11:39.973076Z"
    }
   },
   "source": [
    "# Do a spot-check of your function\n",
    "print(\"The 10 most similar users to user 1 are: {}\".format(find_similar_users(1)[:10]))\n",
    "print(\"The 5 most similar users to user 3933 are: {}\".format(find_similar_users(3933)[:5]))\n",
    "print(\"The 3 most similar users to user 46 are: {}\".format(find_similar_users(46)[:3]))"
   ],
   "outputs": [
    {
     "name": "stdout",
     "output_type": "stream",
     "text": [
      "The 10 most similar users to user 1 are: [3933, 23, 3782, 203, 4459, 3870, 131, 4201, 46, 5041]\n",
      "The 5 most similar users to user 3933 are: [1, 23, 3782, 203, 4459]\n",
      "The 3 most similar users to user 46 are: [4201, 3782, 23]\n"
     ]
    }
   ],
   "execution_count": 44
  },
  {
   "metadata": {
    "collapsed": true,
    "jupyter": {
     "outputs_hidden": true
    },
    "ExecuteTime": {
     "end_time": "2025-03-05T17:11:40.605678Z",
     "start_time": "2025-03-05T17:11:40.204818Z"
    }
   },
   "cell_type": "code",
   "source": [
    "# Do a spot-check of your function\n",
    "print(\"The 10 most similar users to user 1 are: {}\".format(find_similar_users_knn(1, n=10)))\n",
    "print(\"The 5 most similar users to user 3933 are: {}\".format(find_similar_users_knn(3933, n=5)))\n",
    "print(\"The 3 most similar users to user 46 are: {}\".format(find_similar_users_knn(46, n=3)))\n",
    "\n",
    "print(\"The 10 most similar users to user 4178 are: {}\".format(find_similar_users_knn(4178, n=10)))\n",
    "print(\"The 10 most similar users to user 4999 are: {}\".format(find_similar_users_knn(4999, n=5)))"
   ],
   "outputs": [
    {
     "name": "stdout",
     "output_type": "stream",
     "text": [
      "The 10 most similar users to user 1 are: [3933, 4201, 46, 5034, 824, 253, 5041, 136, 2305, 395]\n",
      "The 5 most similar users to user 3933 are: [1, 4201, 46, 824, 5034]\n",
      "The 3 most similar users to user 46 are: [4201, 790, 5077]\n",
      "The 10 most similar users to user 4178 are: [2417, 99, 4981, 1938, 2570, 2569, 2566, 2568, 1510, 2567]\n",
      "The 10 most similar users to user 4999 are: [2826, 2813, 3190, 318, 339]\n"
     ]
    }
   ],
   "execution_count": 45
  },
  {
   "metadata": {},
   "cell_type": "markdown",
   "source": [
    "**Conclusion:**\n",
    "KNN does not perform as well as the dot product.\n",
    "In the end, KNN is using dot product as well,\n",
    "but without considering magnitude.\n",
    "As magnitude is important for popularity,\n",
    "it's better to continue with only dot product to measure similarity."
   ]
  },
  {
   "cell_type": "markdown",
   "metadata": {},
   "source": [
    "`3.` Now that you have a function that provides the most similar users to each user, you will want to use these users to find articles you can recommend.  Complete the functions below to return the articles you would recommend to each user. "
   ]
  },
  {
   "cell_type": "code",
   "metadata": {
    "collapsed": true,
    "jupyter": {
     "outputs_hidden": true
    },
    "ExecuteTime": {
     "end_time": "2025-03-05T17:11:40.704306Z",
     "start_time": "2025-03-05T17:11:40.687428Z"
    }
   },
   "source": [
    "def get_article_names(article_ids, df=df):\n",
    "    \"\"\"\n",
    "    INPUT:\n",
    "    article_ids - (list) a list of article ids\n",
    "    df - (pandas dataframe) df as defined at the top of the notebook\n",
    "\n",
    "    OUTPUT:\n",
    "    article_names - (list) a list of article names associated with the list of article ids\n",
    "                    (this is identified by the title column)\n",
    "    \"\"\"\n",
    "\n",
    "    article_names = []\n",
    "\n",
    "    for id in article_ids:\n",
    "        id = int(id)\n",
    "        title = df.loc[df.article_id==id, 'title'].unique()\n",
    "        article_names.append(title[0])\n",
    "\n",
    "    # Return the article names associated with the list of article ids\n",
    "    return article_names\n",
    "\n",
    "\n",
    "def get_user_articles(user_id, user_item=user_item):\n",
    "    \"\"\"\n",
    "    INPUT:\n",
    "    user_id - (int) a user id\n",
    "    user_item - (pandas dataframe) matrix of users by articles: \n",
    "                1's when a user has interacted with an article, 0 otherwise\n",
    "\n",
    "    OUTPUT:\n",
    "    article_ids - (list) a list of the article ids seen by the user\n",
    "    article_names - (list) a list of article names associated with the list of article ids \n",
    "                    (this is identified by the doc_full_name column in df_content)\n",
    "\n",
    "    Description:\n",
    "    Provides a list of the article_ids and article titles that have been seen by a user\n",
    "    \"\"\"\n",
    "\n",
    "    # get a list of movies user has read\n",
    "    user_id = int(user_id)\n",
    "    docs_read = user_item.loc[user_id]\n",
    "    article_ids = list(map(str, docs_read[docs_read  == 1].index))\n",
    "    article_names = get_article_names(article_ids)\n",
    "\n",
    "    return article_ids, article_names # return the ids and names\n",
    "\n",
    "\n",
    "def get_user_articles2(user_id, user_item=user_item):\n",
    "    \"\"\"\n",
    "    Provides a list of the article_ids and article titles that have been seen by a user\n",
    "\n",
    "    Copy of get_user_articles but with user_id as an integer instead\n",
    "\n",
    "    INPUT:\n",
    "    user_id - (int) a user id\n",
    "    user_item - (pandas dataframe) matrix of users by articles:\n",
    "                1's when a user has interacted with an article, 0 otherwise\n",
    "\n",
    "    OUTPUT:\n",
    "    article_ids - (list) a list of the article ids seen by the user\n",
    "    article_names - (list) a list of article names associated with the list of article ids\n",
    "                    (this is identified by the doc_full_name column in df_content)\n",
    "    \"\"\"\n",
    "\n",
    "    # get a list of movies user has read\n",
    "    user_id = int(user_id)\n",
    "    docs_read = user_item.loc[user_id]\n",
    "    article_ids = list(docs_read[docs_read  == 1].index)\n",
    "    article_names = get_article_names(article_ids)\n",
    "\n",
    "    return article_ids, article_names # return the ids and names\n",
    "\n",
    "\n",
    "def user_user_recs(user_id, m=10, knn=False):\n",
    "    \"\"\"\n",
    "    INPUT:\n",
    "    user_id - (int) a user id\n",
    "    m - (int) the number of recommendations you want for the user\n",
    "\n",
    "    OUTPUT:\n",
    "    recs - (list) a list of recommendations for the user\n",
    "\n",
    "    Description:\n",
    "    Loops through the users based on closeness to the input user_id\n",
    "    For each user - finds articles the user hasn't seen before and provides them as recs\n",
    "    Does this until m recommendations are found\n",
    "\n",
    "    Notes:\n",
    "    Users who are the same closeness are chosen arbitrarily as the 'next' user\n",
    "\n",
    "    For the user where the number of recommended articles starts below m\n",
    "    and ends exceeding m, the last items are chosen arbitrarily\n",
    "    \"\"\"\n",
    "\n",
    "    docs_read = user_item.loc[user_id]\n",
    "    docs_read = docs_read[docs_read  == 1].index\n",
    "\n",
    "    # list of user id's that read similar documents to the requested user\n",
    "    if knn:\n",
    "        nearest_neighbors = find_similar_users_knn(user_id)[:m]\n",
    "    else:\n",
    "        nearest_neighbors = find_similar_users(user_id)[:m]\n",
    "\n",
    "    # reduce the user_item matrix to only nearest neighbors\n",
    "    neighbors_docs = user_item.reindex(nearest_neighbors)\n",
    "\n",
    "    # get the articles read the most by neighbors with highest score\n",
    "    recs = neighbors_docs.sum().sort_values(ascending=False)\n",
    "\n",
    "    # drop articles read already\n",
    "    recs = recs.drop(docs_read, errors='ignore')\n",
    "\n",
    "    # get titles\n",
    "    titles = get_article_names(recs[:m].index)\n",
    "\n",
    "    return titles # return your recommendations for this user_id"
   ],
   "outputs": [],
   "execution_count": 46
  },
  {
   "cell_type": "code",
   "metadata": {
    "collapsed": true,
    "jupyter": {
     "outputs_hidden": true
    },
    "ExecuteTime": {
     "end_time": "2025-03-05T17:11:40.763686Z",
     "start_time": "2025-03-05T17:11:40.752157Z"
    }
   },
   "source": [
    "# Test your functions here - No need to change this code - just run this cell\n",
    "assert set(get_article_names(['1024', '1176', '1305', '1314', '1422', '1427'])) == set(['using deep learning to reconstruct high-resolution audio', 'build a python app on the streaming analytics service', 'gosales transactions for naive bayes model', 'healthcare python streaming application demo', 'use r dataframes & ibm watson natural language understanding', 'use xgboost, scikit-learn & ibm watson machine learning apis']), \"Oops! Your the get_article_names function doesn't work quite how we expect.\"\n",
    "assert set(get_article_names(['1320', '232', '844'])) == set(['housing (2015): united states demographic measures','self-service data preparation with ibm data refinery','use the cloudant-spark connector in python notebook']), \"Oops! Your the get_article_names function doesn't work quite how we expect.\"\n",
    "assert set(get_user_articles(20)[0]) == set(['1320', '232', '844'])\n",
    "assert set(get_user_articles(20)[1]) == set(['housing (2015): united states demographic measures', 'self-service data preparation with ibm data refinery','use the cloudant-spark connector in python notebook'])\n",
    "assert set(get_user_articles(2)[0]) == set(['1024', '1176', '1305', '1314', '1422', '1427'])\n",
    "assert set(get_user_articles(2)[1]) == set(['using deep learning to reconstruct high-resolution audio', 'build a python app on the streaming analytics service', 'gosales transactions for naive bayes model', 'healthcare python streaming application demo', 'use r dataframes & ibm watson natural language understanding', 'use xgboost, scikit-learn & ibm watson machine learning apis'])\n",
    "print(\"If this is all you see, you passed all of our tests!  Nice job!\")"
   ],
   "outputs": [
    {
     "name": "stdout",
     "output_type": "stream",
     "text": [
      "If this is all you see, you passed all of our tests!  Nice job!\n"
     ]
    }
   ],
   "execution_count": 47
  },
  {
   "cell_type": "markdown",
   "metadata": {},
   "source": [
    "`4.` Now we are going to improve the consistency of the **user_user_recs** function from above.  \n",
    "\n",
    "* Instead of arbitrarily choosing when we obtain users who are all the same closeness to a given user - choose the users that have the most total article interactions before choosing those with fewer article interactions.\n",
    "\n",
    "\n",
    "* Instead of arbitrarily choosing articles from the user where the number of recommended articles starts below m and ends exceeding m, choose articles with the articles with the most total interactions before choosing those with fewer total interactions. This ranking should be  what would be obtained from the **top_articles** function you wrote earlier."
   ]
  },
  {
   "cell_type": "code",
   "metadata": {
    "collapsed": true,
    "jupyter": {
     "outputs_hidden": true
    },
    "ExecuteTime": {
     "end_time": "2025-03-05T17:11:40.790535Z",
     "start_time": "2025-03-05T17:11:40.784856Z"
    }
   },
   "source": [
    "def get_top_sorted_users(user_id, df=df, user_item=user_item, knn=False):\n",
    "    \"\"\"\n",
    "    Get most similar users\n",
    "\n",
    "    INPUT:\n",
    "    user_id - (int)\n",
    "    df - (pandas dataframe) df as defined at the top of the notebook \n",
    "    user_item - (pandas dataframe) matrix of users by articles: \n",
    "            1's when a user has interacted with an article, 0 otherwise\n",
    "    \n",
    "            \n",
    "    OUTPUT:\n",
    "    neighbors_df - (pandas dataframe) a dataframe with:\n",
    "                    neighbor_id - is a neighbor user_id\n",
    "                    similarity - measure of the similarity of each user to the provided user_id\n",
    "                    num_interactions - the number of articles viewed by the user - if a u\n",
    "                    \n",
    "    Other Details - sort the neighbors_df by the similarity and then by number of interactions where \n",
    "                    highest of each is higher in the dataframe\n",
    "     \n",
    "    \"\"\"\n",
    "\n",
    "    dot_similarity = pd.DataFrame()\n",
    "\n",
    "    # list of user id's that read similar documents to the requested user\n",
    "    if knn:\n",
    "        neighbors = find_similar_users_knn(user_id)\n",
    "        knn = NearestNeighbors(n_neighbors=100, algorithm='auto', metric='cosine', n_jobs=-1)\n",
    "        knn.fit(user_item)\n",
    "        # contains indexes of similar users\n",
    "        distance, neighbors = knn.kneighbors(user_item.loc[[user_id]], return_distance=True)\n",
    "        # get user_ids\n",
    "        userids = user_item.iloc[neighbors.squeeze()].index.values.tolist()\n",
    "        similarity = pd.DataFrame({'similarity': distance.squeeze()}, index=userids)\n",
    "\n",
    "    else:\n",
    "\t    # compute the similarity of each user to the provided user\n",
    "        input_user_series = user_item.loc[user_id]\n",
    "        similarity = input_user_series.dot(np.transpose(user_item))\n",
    "\n",
    "    # sort user_ids by top interactions\n",
    "    top_article_interactions = df.user_id.value_counts()\n",
    "\n",
    "    # merge and sort similarities and interactions\n",
    "    neighbors_df = pd.concat([similarity, top_article_interactions], axis=1)\n",
    "    neighbors_df.columns = ['similarity', 'num_interactions']\n",
    "    neighbors_df.drop(user_id, axis=0, inplace=True)\n",
    "    neighbors_df.sort_values(by=['similarity', 'num_interactions'], ascending=False, inplace=True)\n",
    "\n",
    "    return neighbors_df # Return the dataframe specified in the doc_string\n",
    "\n",
    "\n",
    "def user_user_recs_part2(user_id, m=10, knn=False):\n",
    "    \"\"\"\n",
    "    INPUT:\n",
    "    user_id - (int) a user id\n",
    "    m - (int) the number of recommendations you want for the user\n",
    "    \n",
    "    OUTPUT:\n",
    "    recs - (list) a list of recommendations for the user by article id\n",
    "    rec_names - (list) a list of recommendations for the user by article title\n",
    "    \n",
    "    Description:\n",
    "    Loops through the users based on closeness to the input user_id\n",
    "    For each user - finds articles the user hasn't seen before and provides them as recs\n",
    "    Does this until m recommendations are found\n",
    "    \n",
    "    Notes:\n",
    "    * Choose the users that have the most total article interactions \n",
    "    before choosing those with fewer article interactions.\n",
    "\n",
    "    * Choose articles with the articles with the most total interactions \n",
    "    before choosing those with fewer total interactions. \n",
    "   \n",
    "    \"\"\"\n",
    "\n",
    "    # get all the documents user has read\n",
    "    docs_read = user_item.loc[user_id]\n",
    "    docs_read = docs_read[docs_read  == 1].index\n",
    "\n",
    "    neighbors_df = get_top_sorted_users(user_id, df=df, user_item=user_item, knn=knn)\n",
    "\n",
    "    nearest_user_id = neighbors_df[:m+10].index.values.tolist()\n",
    "\n",
    "    # reduce the user_item matrix to only nearest neighbors\n",
    "    neighbors_docs = user_item.reindex(nearest_user_id)\n",
    "\n",
    "    # get the documents read the most by neighbors with highest score\n",
    "    neighbors_docs = neighbors_docs.sum().sort_values(ascending=False)\n",
    "\n",
    "    # merge and sort similarities and interactions\n",
    "    top_article_interactions = df.article_id.value_counts()\n",
    "    similar_articles = pd.concat([neighbors_docs, top_article_interactions], axis=1)\n",
    "    similar_articles.columns = ['similarity', 'num_interactions']\n",
    "    similar_articles = similar_articles.drop(docs_read, errors='ignore')\n",
    "    similar_articles.sort_values(by=['similarity', 'num_interactions'], ascending=False, inplace=True)\n",
    "\n",
    "    # list of recommended article ids\n",
    "    recs = similar_articles[:m].index.values.tolist()\n",
    "\n",
    "    # list of recommended article titles\n",
    "    rec_names = get_article_names(recs)\n",
    "\n",
    "    return recs, rec_names"
   ],
   "outputs": [],
   "execution_count": 48
  },
  {
   "metadata": {
    "ExecuteTime": {
     "end_time": "2025-03-05T17:11:40.856977Z",
     "start_time": "2025-03-05T17:11:40.845028Z"
    }
   },
   "cell_type": "code",
   "source": [
    "# Let's try to test this function\n",
    "# Actual documents read by user 4999, it's easy to judge manually as the user read only 3 documents\n",
    "get_user_articles2(4999)[1]"
   ],
   "outputs": [
    {
     "data": {
      "text/plain": [
       "['deploy your python model as a restful api',\n",
       " 'use xgboost, scikit-learn & ibm watson machine learning apis',\n",
       " 'using pixiedust for fast, flexible, and easier data analysis and experimentation']"
      ]
     },
     "execution_count": 49,
     "metadata": {},
     "output_type": "execute_result"
    }
   ],
   "execution_count": 49
  },
  {
   "metadata": {
    "ExecuteTime": {
     "end_time": "2025-03-05T17:11:40.985602Z",
     "start_time": "2025-03-05T17:11:40.876859Z"
    }
   },
   "cell_type": "code",
   "source": [
    "# get_top_sorted_users(4999, knn=True)\n",
    "user_user_recs_part2(4999, knn=True)"
   ],
   "outputs": [
    {
     "data": {
      "text/plain": [
       "([732, 1338, 1360, 1169, 1429, 1364, 1420, 898, 1330, 1314],\n",
       " ['rapidly build machine learning flows with dsx',\n",
       "  'ml optimization using cognitive assistant',\n",
       "  'pixieapp for outlier detection',\n",
       "  'annual precipitation by country 1990-2009',\n",
       "  'use deep learning for image classification',\n",
       "  'predicting churn with the spss random tree algorithm',\n",
       "  'use apache systemml and spark for machine learning',\n",
       "  'neural language modeling from scratch (part 1)',\n",
       "  'insights from new york car accident reports',\n",
       "  'healthcare python streaming application demo'])"
      ]
     },
     "execution_count": 50,
     "metadata": {},
     "output_type": "execute_result"
    }
   ],
   "execution_count": 50
  },
  {
   "metadata": {
    "ExecuteTime": {
     "end_time": "2025-03-05T17:11:41.010780Z",
     "start_time": "2025-03-05T17:11:40.999717Z"
    }
   },
   "cell_type": "code",
   "source": [
    "# get_top_sorted_users(4999, knn=False)\n",
    "user_user_recs_part2(4999, knn=False)"
   ],
   "outputs": [
    {
     "data": {
      "text/plain": [
       "([1360, 1364, 1429, 1314, 1351, 1393, 1185, 1368, 1163, 1338],\n",
       " ['pixieapp for outlier detection',\n",
       "  'predicting churn with the spss random tree algorithm',\n",
       "  'use deep learning for image classification',\n",
       "  'healthcare python streaming application demo',\n",
       "  'model bike sharing data with spss',\n",
       "  'the nurse assignment problem',\n",
       "  'classify tumors with machine learning',\n",
       "  'putting a human face on machine learning',\n",
       "  'analyze open data sets with spark & pixiedust',\n",
       "  'ml optimization using cognitive assistant'])"
      ]
     },
     "execution_count": 51,
     "metadata": {},
     "output_type": "execute_result"
    }
   ],
   "execution_count": 51
  },
  {
   "metadata": {},
   "cell_type": "markdown",
   "source": [
    "Conclusion:\n",
    "Dot product is a better metric than knn for this use case.\n",
    "KNN using cosine is actually also using dot product but is normalized by magnitude.\n",
    "In our use case, magnitude gives better results as popularity matters."
   ]
  },
  {
   "cell_type": "code",
   "metadata": {
    "collapsed": true,
    "jupyter": {
     "outputs_hidden": true
    },
    "ExecuteTime": {
     "end_time": "2025-03-05T17:11:41.073858Z",
     "start_time": "2025-03-05T17:11:41.054624Z"
    }
   },
   "source": [
    "# Quick spot check - don't change this code - just use it to test your functions\n",
    "rec_ids, rec_names = user_user_recs_part2(20, 10)\n",
    "print(\"The top 10 recommendations for user 20 are the following article ids:\")\n",
    "print(rec_ids)\n",
    "print()\n",
    "print(\"The top 10 recommendations for user 20 are the following article names:\")\n",
    "print(rec_names)"
   ],
   "outputs": [
    {
     "name": "stdout",
     "output_type": "stream",
     "text": [
      "The top 10 recommendations for user 20 are the following article ids:\n",
      "[1162, 1314, 1351, 1330, 1429, 1364, 1271, 1368, 1172, 1276]\n",
      "\n",
      "The top 10 recommendations for user 20 are the following article names:\n",
      "['analyze energy consumption in buildings', 'healthcare python streaming application demo', 'model bike sharing data with spss', 'insights from new york car accident reports', 'use deep learning for image classification', 'predicting churn with the spss random tree algorithm', 'customer demographics and sales', 'putting a human face on machine learning', 'apache spark lab, part 3: machine learning', 'deploy your python model as a restful api']\n"
     ]
    }
   ],
   "execution_count": 52
  },
  {
   "cell_type": "markdown",
   "metadata": {},
   "source": [
    "`5.` Use your functions from above to correctly fill in the solutions to the dictionary below.  Then test your dictionary against the solution.  Provide the code you need to answer each following the comments below."
   ]
  },
  {
   "metadata": {
    "ExecuteTime": {
     "end_time": "2025-03-05T17:11:41.112979Z",
     "start_time": "2025-03-05T17:11:41.102083Z"
    }
   },
   "cell_type": "code",
   "source": "get_top_sorted_users(1).index.values.tolist()[:1]",
   "outputs": [
    {
     "data": {
      "text/plain": [
       "[3933]"
      ]
     },
     "execution_count": 53,
     "metadata": {},
     "output_type": "execute_result"
    }
   ],
   "execution_count": 53
  },
  {
   "metadata": {
    "ExecuteTime": {
     "end_time": "2025-03-05T17:11:41.150441Z",
     "start_time": "2025-03-05T17:11:41.136789Z"
    }
   },
   "cell_type": "code",
   "source": "get_top_sorted_users(131).index.values.tolist()[:10]",
   "outputs": [
    {
     "data": {
      "text/plain": [
       "[3870, 3782, 23, 203, 4459, 98, 3764, 49, 3697, 242]"
      ]
     },
     "execution_count": 54,
     "metadata": {},
     "output_type": "execute_result"
    }
   ],
   "execution_count": 54
  },
  {
   "cell_type": "code",
   "metadata": {
    "collapsed": true,
    "jupyter": {
     "outputs_hidden": true
    },
    "ExecuteTime": {
     "end_time": "2025-03-05T17:11:41.169897Z",
     "start_time": "2025-03-05T17:11:41.167677Z"
    }
   },
   "source": [
    "### Tests with a dictionary of results\n",
    "user1_most_sim =  3933 # Find the user that is most similar to user 1\n",
    "user131_10th_sim = 242 # Find the 10th most similar user to user 131"
   ],
   "outputs": [],
   "execution_count": 55
  },
  {
   "cell_type": "code",
   "metadata": {
    "collapsed": true,
    "jupyter": {
     "outputs_hidden": true
    },
    "ExecuteTime": {
     "end_time": "2025-03-05T17:11:41.189873Z",
     "start_time": "2025-03-05T17:11:41.186131Z"
    }
   },
   "source": [
    "## Dictionary Test Here\n",
    "sol_5_dict = {\n",
    "    'The user that is most similar to user 1.': user1_most_sim, \n",
    "    'The user that is the 10th most similar to user 131': user131_10th_sim,\n",
    "}\n",
    "\n",
    "t.sol_5_test(sol_5_dict)"
   ],
   "outputs": [
    {
     "name": "stdout",
     "output_type": "stream",
     "text": [
      "This all looks good!  Nice job!\n"
     ]
    }
   ],
   "execution_count": 56
  },
  {
   "cell_type": "markdown",
   "metadata": {},
   "source": [
    "`6.` If we were given a new user, which of the above functions would you be able to use to make recommendations?  Explain.  Can you think of a better way we might make recommendations?  Use the cell below to explain a better method for new users."
   ]
  },
  {
   "cell_type": "markdown",
   "metadata": {},
   "source": [
    "**Provide your response here.**\n",
    "\n",
    "For a new user or a new document,\n",
    "collaborative filtering does not work well to make predictions,\n",
    "as it's using historical patterns to make predictions.\n",
    "\n",
    "I propose two options for recommendations to new users:\n",
    "1) Ranked-based recommendations <br>\n",
    "like we did in Part II in function\n",
    "`get_top_articles` to propose the most popular articles.\n",
    "\n",
    "2) Content-based recommendations <br>\n",
    "Use NLP techniques\n",
    "to propose articles to the user based on word count and semantic search,\n",
    "based on input search criteria provided by the user."
   ]
  },
  {
   "cell_type": "markdown",
   "metadata": {},
   "source": [
    "`7.` Using your existing functions, provide the top 10 recommended articles you would provide for the a new user below.  You can test your function against our thoughts to make sure we are all on the same page with how we might make a recommendation."
   ]
  },
  {
   "cell_type": "code",
   "metadata": {
    "collapsed": true,
    "jupyter": {
     "outputs_hidden": true
    },
    "ExecuteTime": {
     "end_time": "2025-03-05T17:11:41.242805Z",
     "start_time": "2025-03-05T17:11:41.239799Z"
    }
   },
   "source": [
    "new_user = '0.0'\n",
    "\n",
    "# What would your recommendations be for this new user '0.0'?\n",
    "# As a new user, they have no observed articles.\n",
    "# Provide a list of the top 10 article ids you would give to.\n",
    "new_user_recs = get_top_article_ids(n=10)\n",
    "# convert to a floated string to match Udacity testing\n",
    "new_user_recs = [str(float(x)) for x in new_user_recs]\n",
    "new_user_recs"
   ],
   "outputs": [
    {
     "data": {
      "text/plain": [
       "['1429.0',\n",
       " '1330.0',\n",
       " '1431.0',\n",
       " '1427.0',\n",
       " '1364.0',\n",
       " '1314.0',\n",
       " '1293.0',\n",
       " '1170.0',\n",
       " '1162.0',\n",
       " '1304.0']"
      ]
     },
     "execution_count": 57,
     "metadata": {},
     "output_type": "execute_result"
    }
   ],
   "execution_count": 57
  },
  {
   "cell_type": "code",
   "metadata": {
    "collapsed": true,
    "jupyter": {
     "outputs_hidden": true
    },
    "ExecuteTime": {
     "end_time": "2025-03-05T17:11:41.303638Z",
     "start_time": "2025-03-05T17:11:41.301482Z"
    }
   },
   "source": [
    "assert set(new_user_recs) == set(['1314.0','1429.0','1293.0','1427.0','1162.0','1364.0','1304.0','1170.0','1431.0','1330.0']), \"Oops!  It makes sense that in this case we would want to recommend the most popular articles, because we don't know anything about these users.\"\n",
    "\n",
    "print(\"That's right!  Nice job!\")"
   ],
   "outputs": [
    {
     "name": "stdout",
     "output_type": "stream",
     "text": [
      "That's right!  Nice job!\n"
     ]
    }
   ],
   "execution_count": 58
  },
  {
   "cell_type": "markdown",
   "metadata": {},
   "source": [
    "### <a class=\"anchor\" id=\"Content-Recs\">Part IV: Content Based Recommendations</a>\n",
    "\n",
    "Another method we might use to make recommendations is\n",
    "to perform a ranking of the highest ranked articles\n",
    "associated with some input term.\n",
    "\n",
    "Use NLP techniques to convert document texts into words.\n",
    "\n",
    "Merge `doc_body`, `doc_description`\n",
    "and `doc_full_name` to improve search term performance."
   ]
  },
  {
   "metadata": {
    "ExecuteTime": {
     "end_time": "2025-03-05T17:11:41.379034Z",
     "start_time": "2025-03-05T17:11:41.360244Z"
    }
   },
   "cell_type": "code",
   "source": [
    "# first lets enhance df_content\n",
    "# for content-based recommendations, merge title, description and body\n",
    "df_content['doc_body_all'] = (\n",
    "    df_content[df_content.columns[:]].apply(\n",
    "        lambda x: ','.join(x.astype(str)), axis=1))\n",
    "\n",
    "df_content.columns"
   ],
   "outputs": [
    {
     "data": {
      "text/plain": [
       "Index(['doc_body', 'doc_description', 'doc_full_name', 'doc_status',\n",
       "       'article_id', 'doc_body_all'],\n",
       "      dtype='object')"
      ]
     },
     "execution_count": 59,
     "metadata": {},
     "output_type": "execute_result"
    }
   ],
   "execution_count": 59
  },
  {
   "metadata": {
    "ExecuteTime": {
     "end_time": "2025-03-05T17:11:41.392042Z",
     "start_time": "2025-03-05T17:11:41.388937Z"
    }
   },
   "cell_type": "code",
   "source": [
    "def tokenize(text):\n",
    "    \"\"\" Summarize text into words whilst cleaning it up\n",
    "\n",
    "    Most important functions:\n",
    "    - Summarize url links starting with http or www to a common phrase 'url\n",
    "    - Summarize email addresses to a common phrase 'email'\n",
    "    - Get rid of new lines `\\n'\n",
    "    - Remove all words that are just numbers\n",
    "    - Remove all words that contain numbers\n",
    "    - Cleanup basic punctuation like '..', '. .'\n",
    "    - Remove punctuation\n",
    "    - Remove words that are just 1 character long after removing punctuation\n",
    "    - Use lemmatization to bring words to the base\n",
    "\n",
    "    Args:\n",
    "        text: string, Text sentences to be split into words\n",
    "\n",
    "    Return:\n",
    "        clean_tokens: list, List containing most crucial words\n",
    "    \"\"\"\n",
    "\n",
    "    # Replace urls starting with 'https' with placeholder\n",
    "    url_regex = 'http[s]?://(?:[a-zA-Z]|[0-9]|[$-_@.&+]|[!*\\(\\),]|(?:%[0-9a-fA-F][0-9a-fA-F]))+'\n",
    "    # replace urls with a common keyword\n",
    "    detected_urls = re.findall(url_regex, text)\n",
    "    for url in detected_urls:\n",
    "        text = text.replace(url, 'url')\n",
    "\n",
    "    # Replace urls starting with 'www' with placeholder\n",
    "    url_regex = 'www.(?:[a-zA-Z]|[0-9]|[$-_@.&+]|[!*\\(\\),]|(?:%[0-9a-fA-F][0-9a-fA-F]))+'\n",
    "    detected_urls = re.findall(url_regex, text)\n",
    "    for url in detected_urls:\n",
    "        text = text.replace(url, 'url')\n",
    "\n",
    "    # replace emails with placeholder\n",
    "    email_regex = '([A-Za-z0-9._%+-]+@[A-Za-z0-9.-]+\\.[A-Za-z]{2,})'\n",
    "    detected_emails = re.findall(email_regex, text)\n",
    "    for email in detected_emails:\n",
    "        text = text.replace(email, 'email')\n",
    "\n",
    "    # replace newlines, which can negatively affect performance.\n",
    "    text = text.replace(\"\\n\", \" \")\n",
    "    text = text.replace(\"\\r\", \" \")\n",
    "    text = text.replace(\"..\", \".\")\n",
    "    text = text.replace(\". .\", \".\")\n",
    "    text = text.replace(\" ,.\", \".\")\n",
    "\n",
    "    text = re.sub(r'\\s+', ' ', text).strip()\n",
    "\n",
    "    # normalize text by removing punctuation, remove case and strip spaces\n",
    "    text = re.sub(r\"[^a-zA-Z0-9]\", \" \", text)\n",
    "    text = text.lower().strip()\n",
    "\n",
    "    # remove numbers\n",
    "    text = re.sub(r'\\d+', '', text)\n",
    "\n",
    "    #  split sentence into words\n",
    "    tokens = word_tokenize(text)\n",
    "\n",
    "    # Remove stopwords, e.g. 'the', 'a',\n",
    "    tokens = [w for w in tokens if w not in stopwords.words(\"english\")]\n",
    "\n",
    "    # take words to their core, e.g. children to child, organizations to organization\n",
    "    lemmatizer = WordNetLemmatizer()\n",
    "    clean_tokens = []\n",
    "    for tok in tokens:\n",
    "        clean_tok = lemmatizer.lemmatize(tok, wordnet.VERB)\n",
    "        # ignore tokens that have only 1 character or contains numbers\n",
    "        if len(clean_tok) >= 2 & clean_tok.isalpha():\n",
    "            clean_tokens.append(clean_tok)\n",
    "\n",
    "    return clean_tokens"
   ],
   "outputs": [],
   "execution_count": 60
  },
  {
   "metadata": {
    "ExecuteTime": {
     "end_time": "2025-03-05T17:11:41.412916Z",
     "start_time": "2025-03-05T17:11:41.410525Z"
    }
   },
   "cell_type": "code",
   "source": [
    "def create_word_count_matrix(df=df_content.copy(deep=True), column='doc_body'):\n",
    "    \"\"\"\n",
    "    Create a word count matrix for a dataframe column containing text\n",
    "\n",
    "    Input:\n",
    "    df: pandas dataframe containing document texts, with identifier 'article_id'\n",
    "    column: string -> column to convert to word counts\n",
    "\n",
    "    Output:\n",
    "    tfidf_df: pandas dataframe containing the word count matrix\n",
    "\n",
    "    \"\"\"\n",
    "    df.set_index('article_id', inplace=True)\n",
    "\n",
    "    # Create a word count matrix by article\n",
    "    tfidf_vectorizer = TfidfVectorizer(min_df=3,\n",
    "                                       max_df=0.6,\n",
    "                                       tokenizer=tokenize,\n",
    "                                       token_pattern=None,\n",
    "                                       max_features=5000)\n",
    "    vectorized_data = tfidf_vectorizer.fit_transform(df[column])\n",
    "    tfidf_df = pd.DataFrame(vectorized_data.toarray(),\n",
    "                            columns=tfidf_vectorizer.get_feature_names_out(),\n",
    "                            index=df.index)\n",
    "    return tfidf_df, tfidf_vectorizer"
   ],
   "outputs": [],
   "execution_count": 61
  },
  {
   "metadata": {
    "ExecuteTime": {
     "end_time": "2025-03-05T17:12:24.061286Z",
     "start_time": "2025-03-05T17:11:41.440843Z"
    }
   },
   "cell_type": "code",
   "source": [
    "tfidf_df, tfidf_vectorizer = create_word_count_matrix(df_content.copy(deep=True), column='doc_body_all')\n",
    "tfidf_df.head()"
   ],
   "outputs": [
    {
     "data": {
      "text/plain": [
       "             aa  aapl  aaron   ab  abdullah  ability      able  abline  abs  \\\n",
       "article_id                                                                    \n",
       "0           0.0   0.0    0.0  0.0       0.0      0.0  0.000000     0.0  0.0   \n",
       "1           0.0   0.0    0.0  0.0       0.0      0.0  0.018488     0.0  0.0   \n",
       "2           0.0   0.0    0.0  0.0       0.0      0.0  0.000000     0.0  0.0   \n",
       "3           0.0   0.0    0.0  0.0       0.0      0.0  0.000000     0.0  0.0   \n",
       "4           0.0   0.0    0.0  0.0       0.0      0.0  0.000000     0.0  0.0   \n",
       "\n",
       "            absolute  ...  young   youtube  ytd  yyyy    z  zero  zip  zone  \\\n",
       "article_id            ...                                                     \n",
       "0                0.0  ...    0.0  0.050284  0.0   0.0  0.0   0.0  0.0   0.0   \n",
       "1                0.0  ...    0.0  0.000000  0.0   0.0  0.0   0.0  0.0   0.0   \n",
       "2                0.0  ...    0.0  0.000000  0.0   0.0  0.0   0.0  0.0   0.0   \n",
       "3                0.0  ...    0.0  0.000000  0.0   0.0  0.0   0.0  0.0   0.0   \n",
       "4                0.0  ...    0.0  0.047975  0.0   0.0  0.0   0.0  0.0   0.0   \n",
       "\n",
       "            zoo  zoom  \n",
       "article_id             \n",
       "0           0.0   0.0  \n",
       "1           0.0   0.0  \n",
       "2           0.0   0.0  \n",
       "3           0.0   0.0  \n",
       "4           0.0   0.0  \n",
       "\n",
       "[5 rows x 5000 columns]"
      ],
      "text/html": [
       "<div>\n",
       "<style scoped>\n",
       "    .dataframe tbody tr th:only-of-type {\n",
       "        vertical-align: middle;\n",
       "    }\n",
       "\n",
       "    .dataframe tbody tr th {\n",
       "        vertical-align: top;\n",
       "    }\n",
       "\n",
       "    .dataframe thead th {\n",
       "        text-align: right;\n",
       "    }\n",
       "</style>\n",
       "<table border=\"1\" class=\"dataframe\">\n",
       "  <thead>\n",
       "    <tr style=\"text-align: right;\">\n",
       "      <th></th>\n",
       "      <th>aa</th>\n",
       "      <th>aapl</th>\n",
       "      <th>aaron</th>\n",
       "      <th>ab</th>\n",
       "      <th>abdullah</th>\n",
       "      <th>ability</th>\n",
       "      <th>able</th>\n",
       "      <th>abline</th>\n",
       "      <th>abs</th>\n",
       "      <th>absolute</th>\n",
       "      <th>...</th>\n",
       "      <th>young</th>\n",
       "      <th>youtube</th>\n",
       "      <th>ytd</th>\n",
       "      <th>yyyy</th>\n",
       "      <th>z</th>\n",
       "      <th>zero</th>\n",
       "      <th>zip</th>\n",
       "      <th>zone</th>\n",
       "      <th>zoo</th>\n",
       "      <th>zoom</th>\n",
       "    </tr>\n",
       "    <tr>\n",
       "      <th>article_id</th>\n",
       "      <th></th>\n",
       "      <th></th>\n",
       "      <th></th>\n",
       "      <th></th>\n",
       "      <th></th>\n",
       "      <th></th>\n",
       "      <th></th>\n",
       "      <th></th>\n",
       "      <th></th>\n",
       "      <th></th>\n",
       "      <th></th>\n",
       "      <th></th>\n",
       "      <th></th>\n",
       "      <th></th>\n",
       "      <th></th>\n",
       "      <th></th>\n",
       "      <th></th>\n",
       "      <th></th>\n",
       "      <th></th>\n",
       "      <th></th>\n",
       "      <th></th>\n",
       "    </tr>\n",
       "  </thead>\n",
       "  <tbody>\n",
       "    <tr>\n",
       "      <th>0</th>\n",
       "      <td>0.0</td>\n",
       "      <td>0.0</td>\n",
       "      <td>0.0</td>\n",
       "      <td>0.0</td>\n",
       "      <td>0.0</td>\n",
       "      <td>0.0</td>\n",
       "      <td>0.000000</td>\n",
       "      <td>0.0</td>\n",
       "      <td>0.0</td>\n",
       "      <td>0.0</td>\n",
       "      <td>...</td>\n",
       "      <td>0.0</td>\n",
       "      <td>0.050284</td>\n",
       "      <td>0.0</td>\n",
       "      <td>0.0</td>\n",
       "      <td>0.0</td>\n",
       "      <td>0.0</td>\n",
       "      <td>0.0</td>\n",
       "      <td>0.0</td>\n",
       "      <td>0.0</td>\n",
       "      <td>0.0</td>\n",
       "    </tr>\n",
       "    <tr>\n",
       "      <th>1</th>\n",
       "      <td>0.0</td>\n",
       "      <td>0.0</td>\n",
       "      <td>0.0</td>\n",
       "      <td>0.0</td>\n",
       "      <td>0.0</td>\n",
       "      <td>0.0</td>\n",
       "      <td>0.018488</td>\n",
       "      <td>0.0</td>\n",
       "      <td>0.0</td>\n",
       "      <td>0.0</td>\n",
       "      <td>...</td>\n",
       "      <td>0.0</td>\n",
       "      <td>0.000000</td>\n",
       "      <td>0.0</td>\n",
       "      <td>0.0</td>\n",
       "      <td>0.0</td>\n",
       "      <td>0.0</td>\n",
       "      <td>0.0</td>\n",
       "      <td>0.0</td>\n",
       "      <td>0.0</td>\n",
       "      <td>0.0</td>\n",
       "    </tr>\n",
       "    <tr>\n",
       "      <th>2</th>\n",
       "      <td>0.0</td>\n",
       "      <td>0.0</td>\n",
       "      <td>0.0</td>\n",
       "      <td>0.0</td>\n",
       "      <td>0.0</td>\n",
       "      <td>0.0</td>\n",
       "      <td>0.000000</td>\n",
       "      <td>0.0</td>\n",
       "      <td>0.0</td>\n",
       "      <td>0.0</td>\n",
       "      <td>...</td>\n",
       "      <td>0.0</td>\n",
       "      <td>0.000000</td>\n",
       "      <td>0.0</td>\n",
       "      <td>0.0</td>\n",
       "      <td>0.0</td>\n",
       "      <td>0.0</td>\n",
       "      <td>0.0</td>\n",
       "      <td>0.0</td>\n",
       "      <td>0.0</td>\n",
       "      <td>0.0</td>\n",
       "    </tr>\n",
       "    <tr>\n",
       "      <th>3</th>\n",
       "      <td>0.0</td>\n",
       "      <td>0.0</td>\n",
       "      <td>0.0</td>\n",
       "      <td>0.0</td>\n",
       "      <td>0.0</td>\n",
       "      <td>0.0</td>\n",
       "      <td>0.000000</td>\n",
       "      <td>0.0</td>\n",
       "      <td>0.0</td>\n",
       "      <td>0.0</td>\n",
       "      <td>...</td>\n",
       "      <td>0.0</td>\n",
       "      <td>0.000000</td>\n",
       "      <td>0.0</td>\n",
       "      <td>0.0</td>\n",
       "      <td>0.0</td>\n",
       "      <td>0.0</td>\n",
       "      <td>0.0</td>\n",
       "      <td>0.0</td>\n",
       "      <td>0.0</td>\n",
       "      <td>0.0</td>\n",
       "    </tr>\n",
       "    <tr>\n",
       "      <th>4</th>\n",
       "      <td>0.0</td>\n",
       "      <td>0.0</td>\n",
       "      <td>0.0</td>\n",
       "      <td>0.0</td>\n",
       "      <td>0.0</td>\n",
       "      <td>0.0</td>\n",
       "      <td>0.000000</td>\n",
       "      <td>0.0</td>\n",
       "      <td>0.0</td>\n",
       "      <td>0.0</td>\n",
       "      <td>...</td>\n",
       "      <td>0.0</td>\n",
       "      <td>0.047975</td>\n",
       "      <td>0.0</td>\n",
       "      <td>0.0</td>\n",
       "      <td>0.0</td>\n",
       "      <td>0.0</td>\n",
       "      <td>0.0</td>\n",
       "      <td>0.0</td>\n",
       "      <td>0.0</td>\n",
       "      <td>0.0</td>\n",
       "    </tr>\n",
       "  </tbody>\n",
       "</table>\n",
       "<p>5 rows × 5000 columns</p>\n",
       "</div>"
      ]
     },
     "execution_count": 62,
     "metadata": {},
     "output_type": "execute_result"
    }
   ],
   "execution_count": 62
  },
  {
   "metadata": {
    "collapsed": true,
    "jupyter": {
     "outputs_hidden": true
    },
    "ExecuteTime": {
     "end_time": "2025-03-05T17:12:24.317239Z",
     "start_time": "2025-03-05T17:12:24.314878Z"
    }
   },
   "cell_type": "code",
   "source": [
    "def print_content_recommendations(ids, df=df_content):\n",
    "    \"\"\"\n",
    "    Print document titles and descriptions based on a list of recommended article_ids\n",
    "\n",
    "    Input:\n",
    "    ids: list -> list of input article ids\n",
    "    df: pandas dataframe containing document texts, with identifier column 'article_id'\n",
    "\n",
    "    Output:\n",
    "    Print article id, document name and description\n",
    "    \"\"\"\n",
    "\n",
    "    print('Possible recommendations are:')\n",
    "    for id in ids:\n",
    "        doc_full_name = df.loc[df['article_id'] == id, ['doc_full_name', 'doc_description']].values[0]\n",
    "        print('{:>6}: {:>12}.  {:>12}'.format(id, doc_full_name[0], doc_full_name[1]))\n",
    "\n",
    "\n",
    "def make_content_recs(input_search_text, tfidf_vectorizer=tfidf_vectorizer, tfidf_df=tfidf_df, n=10, df=df):\n",
    "    \"\"\"\n",
    "    Content-based recommendations based on text-based similarity\n",
    "\n",
    "    User input any search text\n",
    "\n",
    "    INPUT:\n",
    "    input_search_text: string, any text a user input to search for documents\n",
    "\n",
    "    OUTPUT:\n",
    "    content_ids: list, List containing article_id recommendations\n",
    "    content_descriptions: list, List containing article descriptions\n",
    "\n",
    "    \"\"\"\n",
    "    input_search_text = tfidf_vectorizer.transform([input_search_text])\n",
    "    similarity = cosine_similarity(input_search_text, tfidf_df)\n",
    "    cosine_similarity_df = pd.DataFrame(similarity, columns=tfidf_df.index)\n",
    "    ids = cosine_similarity_df.loc[0].sort_values(ascending=False).index.values[:n].tolist()\n",
    "    print_content_recommendations(ids)"
   ],
   "outputs": [],
   "execution_count": 63
  },
  {
   "metadata": {
    "ExecuteTime": {
     "end_time": "2025-03-05T17:12:24.336935Z",
     "start_time": "2025-03-05T17:12:24.319264Z"
    }
   },
   "cell_type": "code",
   "source": "make_content_recs('Why machine learning?')",
   "outputs": [
    {
     "name": "stdout",
     "output_type": "stream",
     "text": [
      "Possible recommendations are:\n",
      "   967: ML Algorithm != Learning Machine.  How easy it is to build a learning machine? Shouldn't one just hire some Machine Learning PhDs and have them run their algorithms?  Well, this is most probably a good idea, but it won't be enough.  I'll try to explain why in this blog entry. Before answering our questions, let's define what we are dealing with.  A Learning Machine is a machine (a software, a web site, a mobile app, a robot, pick your favorite) that performs a task, and that gets better and better as it performs it.  In recent years, some learning machines made headlines.  For instance, IBM Watson defeated best humans at...\n",
      "  1035: Machine Learning for the Enterprise..  In my last blog “Business differentiation through Machine Learning” I introduced and described the concepts of machine learning. We traced its origins from a computer science project to Watson show…\n",
      "   800: Machine Learning for the Enterprise.  In my last blog “Business differentiation through Machine Learning” I introduced and described the concepts of machine learning. We traced its origins from a computer science project to Watson show…\n",
      "   805: Machine Learning for everyone.  Today we take another step toward making Machine Learning simple and accessible for everyone with our launch of IBM Watson Machine Learning. Watson Machine Learning is designed to make AI and Machine…\n",
      "    34: Top 10 Machine Learning Use Cases: Part 1.  Machine learning has already extended into so many aspects of daily life that it can be handy for us to simply memorize a set of go-to examples of its impact on certain industries. For instance, we…\n",
      "   723: 10 Essential Algorithms For Machine Learning Engineers.  Machine learning algorithms can be divided into 3 broad categories — supervised learning, unsupervised learning, and reinforcement learning.\n",
      "   455: Make machine learning a reality for your enterprise.  Machine learning is fundamentally changing the way we approach computing — and it can pay off big time for your business.\n",
      "   120: A Dynamic Duo – Inside Machine learning – Medium.  The Machine Learning revolution is underway and is changing industries and delivering outcomes that were unimaginable a few years ago. In this video of John J. Thomas’s keynote at ApacheCon on May 17…\n",
      "   107: When machine learning matters · Erik Bernhardsson.  Machine learning is often the enhancer of a product.\n",
      "    74: The 3 Kinds of Context: Machine Learning and the Art of the Frame.  “What do you do for a living?” That question used to have a pretty clear answer: “I’m a data scientist.” But lately, it’s gotten more complicated…\n"
     ]
    }
   ],
   "execution_count": 64
  },
  {
   "cell_type": "markdown",
   "metadata": {},
   "source": "`2.` Now that you have put together your content-based recommendation system, use the cell below to write a summary explaining how your content based recommender works.  Do you see any possible improvements that could be made to your function?  Is there anything novel about your content based recommender?"
  },
  {
   "cell_type": "markdown",
   "metadata": {},
   "source": [
    "**Write an explanation of your content based recommendation system here.**\n",
    "\n",
    "The content-based recommendation system is using a text-based similarity search between user input and the text body of each document.\n",
    "Documents are recommended\n",
    "where the most words are matching the input criteria.\n",
    "The following steps are followed:\n",
    "\n",
    "1) Create a tokonizer to clean-up the text, e.g. lower case, remove accents, stopwords, line feeds, numbers etc\n",
    "2) Use the tokenizer in sklearn's `TdidfVectorizer()` feature extraction function to create a Document-Term matrix, with words and their frequency as columns and article_id as index\n",
    "3) Convert the user input search text using the same model as fitted in step 2. This create a comparable document-term matrix as above with the same shape.\n",
    "4) Use cosine similarity to compare the user input with the documents to find the most similar term frequencies\n",
    "5) Propose the top n documents with highest cosine score to the user\n",
    "\n",
    "The solution is working pretty well,\n",
    "however,\n",
    "it's based on a static word count similarity\n",
    "that does not understand semantics or context.\n",
    "Using AI and embeddings would allow a much smarter and more modern recommendation system."
   ]
  },
  {
   "cell_type": "markdown",
   "metadata": {},
   "source": "`3.` Use your content-recommendation system to make recommendations for the below scenarios based on the comments.  Again no tests are provided here, because there isn't one right answer that could be used to find these content based recommendations."
  },
  {
   "cell_type": "code",
   "metadata": {
    "collapsed": true,
    "jupyter": {
     "outputs_hidden": true
    },
    "ExecuteTime": {
     "end_time": "2025-03-05T17:12:24.357672Z",
     "start_time": "2025-03-05T17:12:24.339444Z"
    }
   },
   "source": [
    "# make recommendations for a brand-new user\n",
    "make_content_recs('XGBOOST')"
   ],
   "outputs": [
    {
     "name": "stdout",
     "output_type": "stream",
     "text": [
      "Possible recommendations are:\n",
      "   130: Feature importance and why it's important.  Feature importance in machine learning using examples in Python with xgboost. Getting better performance from a model with feature pruning.\n",
      "  1018: 7 types of job profiles that makes you a Data Scientist.  What exact skills do companies look for when they are recruiting a Data Scientist.\n",
      "   415: Using Machine Learning to Predict Value of Homes On Airbnb.  Data products have always been an instrumental part of Airbnb’s service. However, we have long recognized that it’s costly to make data products. For example, personalized search ranking enables…\n",
      "   932: Pseudo-labeling a simple semi-supervised learning method.  Using pseudo-labeling a simple semi-supervised learning method to train machine learning models with sci-kit learn and Python (examples with code).\n",
      "   253: Lifelong (machine) learning: how automation can help your models get smarter over time.  Imagine you’re interviewing a new job applicant who graduated top of their class and has a stellar résumé. They know everything there is to know about the job, and has the skills that your business…\n",
      "     8: Data Science Bowl 2017.  Kaggle is your home for data science. Learn new skills, build your career, collaborate with other data scientists, and compete in world-class machine learning challenges.\n",
      "   881: Web Picks (week of 2 October 2017).  Every two weeks, we find the most interesting data science links from around the web and collect them in Data Science Briefings, the DataMiningApps newsletter.\n",
      "   475: Gradient Boosting Explained.  The purpose of this article is to lay the groundwork for classical gradient boosting, intuitively and comprehensively.\n",
      "   495: Top 10 Machine Learning Algorithms for Beginners.  For those starting out in the field of ML, we decided to do a reboot of our immensely popular Gold blog The 10 Algorithms Machine Learning Engineers need to know.\n",
      "   116: Practical Tutorial on Random Forest and Parameter Tuning in R.  In this tutorial, the complete concept of random forest and bagging is explained.\n"
     ]
    }
   ],
   "execution_count": 65
  },
  {
   "metadata": {
    "ExecuteTime": {
     "end_time": "2025-03-05T17:12:24.381319Z",
     "start_time": "2025-03-05T17:12:24.361332Z"
    }
   },
   "cell_type": "code",
   "source": [
    "# make a recommendation for a user who only has interacted with article id '1427.0'\n",
    "# get the title of the article that was read\n",
    "title = df.loc[df['article_id'] == 1427, ['title']][:1].squeeze()\n",
    "print('Title the user has read is: {}\\n'.format(title))\n",
    "\n",
    "# use this title to get similar articles\n",
    "make_content_recs(title)"
   ],
   "outputs": [
    {
     "name": "stdout",
     "output_type": "stream",
     "text": [
      "Title the user has read is: use xgboost, scikit-learn & ibm watson machine learning apis\n",
      "\n",
      "Possible recommendations are:\n",
      "    30: How open API economy accelerates the growth of big data and analytics.  An open API is available on the internet for free. We review the growth of API economy and how organizations have been realizing the potential of open APIs in transforming their business. \n",
      "   685: Working with data flows using  Watson Data APIs.  IBM Watson  offers a collection of REST APIs for creating, running, managing, and troubleshooting data flows to allow your applications to easily integrate with Data Refinery.\n",
      "   805: Machine Learning for everyone.  Today we take another step toward making Machine Learning simple and accessible for everyone with our launch of IBM Watson Machine Learning. Watson Machine Learning is designed to make AI and Machine…\n",
      "   437: IBM Watson Machine Learning: Get Started.  Watch this video to see how to get started with IBM Watson Machine Learning (WML) by provisioning the necessary services in IBM Bluemix.\n",
      "   384: Continuous Learning on Watson.  Build models that learn over time with Watson Machine Learning.\n",
      "   655: Create a project for Watson Machine Learning in DSX.  Watch this video to see how to create a project in IBM Data Science Experience (DSX) and set it up to use Watson Machine Learning (WML).\n",
      "   555: Build a Naive-Bayes Model with WML & DSX.  Watch this video to see how to build a Naive Bayes model using IBM Waston Machine Learning and IBM Data Science Experience that assesses what category of goods a customer might be interested in.\n",
      "   253: Lifelong (machine) learning: how automation can help your models get smarter over time.  Imagine you’re interviewing a new job applicant who graduated top of their class and has a stellar résumé. They know everything there is to know about the job, and has the skills that your business…\n",
      "   521: Learn about Data Science in World of Watson.  Unleash the power of data, analytics, and cognitive at IBM World of Watson 2016, October 24–27 in Las Vegas. Explore the many Data Science related presentations and labs at World of Watson. Hear…\n",
      "   306: Moving to Medium.  We're now the IBM Watson Data Lab on Medium. More on what that means for our blog and our developerWorks site.\n"
     ]
    }
   ],
   "execution_count": 66
  },
  {
   "cell_type": "markdown",
   "metadata": {},
   "source": [
    "### <a class=\"anchor\" id=\"Matrix-Fact\">Part V: Matrix Factorization</a>\n",
    "\n",
    "In this part of the notebook, use matrix factorization to make article recommendations to the users on the IBM Watson Studio platform."
   ]
  },
  {
   "cell_type": "code",
   "metadata": {
    "collapsed": true,
    "jupyter": {
     "outputs_hidden": true
    },
    "ExecuteTime": {
     "end_time": "2025-03-05T17:12:24.393654Z",
     "start_time": "2025-03-05T17:12:24.383995Z"
    }
   },
   "source": [
    "# Load the matrix here\n",
    "user_item_matrix = pd.read_pickle('../data/user_item_matrix.p')\n",
    "user_item_matrix.shape, user_item.shape"
   ],
   "outputs": [
    {
     "data": {
      "text/plain": [
       "((5149, 714), (5149, 714))"
      ]
     },
     "execution_count": 67,
     "metadata": {},
     "output_type": "execute_result"
    }
   ],
   "execution_count": 67
  },
  {
   "cell_type": "markdown",
   "metadata": {},
   "source": [
    "`2.` In this situation, you can use Singular Value Decomposition from [numpy](https://docs.scipy.org/doc/numpy-1.14.0/reference/generated/numpy.linalg.svd.html) on the user-item matrix.  Use the cell to perform SVD, and explain why this is different than in the lesson."
   ]
  },
  {
   "metadata": {
    "ExecuteTime": {
     "end_time": "2025-03-05T17:12:27.284237Z",
     "start_time": "2025-03-05T17:12:24.396269Z"
    }
   },
   "cell_type": "code",
   "source": [
    "# calculate svd predictions as per Udacity lesson\n",
    "u, s, vt = np.linalg.svd(np.array(user_item))\n",
    "u.shape, s.shape, vt.shape"
   ],
   "outputs": [
    {
     "data": {
      "text/plain": [
       "((5149, 5149), (714,), (714, 714))"
      ]
     },
     "execution_count": 68,
     "metadata": {},
     "output_type": "execute_result"
    }
   ],
   "execution_count": 68
  },
  {
   "cell_type": "markdown",
   "metadata": {},
   "source": [
    "**Provide your response here.**\n",
    "\n",
    "In the Udacity lesson,\n",
    "we use SVDs\n",
    "to predict the ratings of missing values,\n",
    "where in this exercise we are not dealing with missing values but binary indicators\n",
    "indicating if a user read a document or not.\n",
    "\n",
    "SVD in this use case could make sense\n",
    "to investigate latent features to detect patterns in the data,\n",
    "reduce dimensionality to improve overall performance,\n",
    "make predictions for new users and documents."
   ]
  },
  {
   "cell_type": "markdown",
   "metadata": {},
   "source": [
    "`3.` Now for the tricky part, how do we choose the number of latent features to use?  Running the below cell, you can see that as the number of latent features increases, we obtain a lower error rate on making predictions for the 1 and 0 values in the user-item matrix.  Run the cell below to get an idea of how the accuracy improves as we increase the number of latent features."
   ]
  },
  {
   "cell_type": "code",
   "metadata": {
    "collapsed": true,
    "jupyter": {
     "outputs_hidden": true
    },
    "ExecuteTime": {
     "end_time": "2025-03-05T17:12:29.064380Z",
     "start_time": "2025-03-05T17:12:27.316176Z"
    }
   },
   "source": [
    "num_latent_feats = np.arange(10,700+10,20)\n",
    "sum_errs = []\n",
    "\n",
    "for k in num_latent_feats:\n",
    "    # restructure with k latent features\n",
    "    s_new, u_new, vt_new = np.diag(s[:k]), u[:, :k], vt[:k, :]\n",
    "    \n",
    "    # take dot product\n",
    "    user_item_est = np.around(np.dot(np.dot(u_new, s_new), vt_new))\n",
    "    \n",
    "    # compute error for each prediction to actual value\n",
    "    diffs = np.subtract(user_item, user_item_est)\n",
    "    \n",
    "    # total errors and keep track of them\n",
    "    err = np.sum(np.sum(np.abs(diffs), axis=0), axis=0)\n",
    "    sum_errs.append(err)\n",
    "    \n",
    "\n",
    "max_error = user_item.shape[0] * user_item.shape[1]\n",
    "plt.plot(num_latent_feats, 1 - np.array(sum_errs)/max_error)\n",
    "plt.xlabel('Number of Latent Features')\n",
    "plt.ylabel('Accuracy')\n",
    "plt.title('Accuracy vs. Number of Latent Features')\n",
    "plt.show()"
   ],
   "outputs": [
    {
     "data": {
      "text/plain": [
       "<Figure size 640x480 with 1 Axes>"
      ],
      "image/png": "[encoded data removed]"
     },
     "metadata": {},
     "output_type": "display_data"
    }
   ],
   "execution_count": 69
  },
  {
   "cell_type": "markdown",
   "metadata": {},
   "source": [
    "`4.` From the above, we can't really be sure how many features to use, because simply having a better way to predict the 1's and 0's of the matrix doesn't exactly give us an indication of if we are able to make good recommendations.  Instead, we might split our dataset into a training and test set of data, as shown in the cell below.  \n",
    "\n",
    "Use the code from question 3 to understand the impact on accuracy of the training and test sets of data with different numbers of latent features. Using the split below: \n",
    "\n",
    "* How many users can we make predictions for in the test set?  \n",
    "* How many users are we not able to make predictions for because of the cold start problem?\n",
    "* How many articles can we make predictions for in the test set?  \n",
    "* How many articles are we not able to make predictions for because of the cold start problem?"
   ]
  },
  {
   "cell_type": "code",
   "metadata": {
    "collapsed": true,
    "jupyter": {
     "outputs_hidden": true
    },
    "ExecuteTime": {
     "end_time": "2025-03-05T17:12:29.410788Z",
     "start_time": "2025-03-05T17:12:29.072121Z"
    }
   },
   "source": [
    "df_train = df.head(40000)\n",
    "df_test = df.tail(5993)\n",
    "\n",
    "def create_test_and_train_user_item(df_train, df_test, correct_history=True):\n",
    "    \"\"\"\n",
    "    Create training and testing user-item matrix\n",
    "\n",
    "    INPUT:\n",
    "    df_train - training dataframe\n",
    "    df_test - test dataframe\n",
    "    \n",
    "    OUTPUT:\n",
    "    user_item_train - a user-item matrix of the training dataframe \n",
    "                      (unique users for each row and unique articles for each column)\n",
    "    user_item_test - a user-item matrix of the testing dataframe \n",
    "                    (unique users for each row and unique articles for each column)\n",
    "    test_idx - all of the test user ids\n",
    "    test_arts - all of the test article ids\n",
    "    \n",
    "    \"\"\"\n",
    "    user_item_train = create_user_item_matrix(df_train)\n",
    "    user_item_test = create_user_item_matrix(df_test)\n",
    "    test_idx  = user_item_test.index.values.tolist()\n",
    "    test_arts = user_item_test.columns.values.tolist()\n",
    "\n",
    "    # find common users and articles\n",
    "    common_users = np.intersect1d(user_item_train.index, user_item_test.index)\n",
    "    common_articles = np.intersect1d(user_item_train.columns, user_item_test.columns)\n",
    "\n",
    "    # keep only common users and articles in the testing dataset\n",
    "    user_item_test = user_item_test.loc[common_users, common_articles]\n",
    "\n",
    "    # correct the history in the test dataset\n",
    "    # If a user read a document in the past in the training dataset,\n",
    "    # set the document to read also in the test dataset.\n",
    "    if correct_history:\n",
    "        for user in common_users:\n",
    "            for article in common_articles:\n",
    "                if (user_item_train.loc[user, article] == 1) & (user_item_test.loc[user, article] == 0):\n",
    "                    user_item_test.loc[user, article] = 1\n",
    "\n",
    "    return user_item_train, user_item_test, test_idx, test_arts\n",
    "\n",
    "\n",
    "user_item_train, user_item_test, test_idx, test_arts = create_test_and_train_user_item(df_train, df_test)\n",
    "user_item_train.shape, user_item_test.shape"
   ],
   "outputs": [
    {
     "data": {
      "text/plain": [
       "((4487, 714), (20, 574))"
      ]
     },
     "execution_count": 70,
     "metadata": {},
     "output_type": "execute_result"
    }
   ],
   "execution_count": 70
  },
  {
   "metadata": {
    "ExecuteTime": {
     "end_time": "2025-03-05T17:12:29.430540Z",
     "start_time": "2025-03-05T17:12:29.428361Z"
    }
   },
   "cell_type": "code",
   "source": [
    "# 1. How many users can we make predictions for in the test set?\n",
    "# How many users in the test dataset are also in the training dataset?\n",
    "# (We can only make predictions for these users)\n",
    "pred_user_ids = user_item_train.loc[user_item_train.index.isin(test_idx)].index.values.tolist()\n",
    "print('We can predict for {} users: {}'.format(len(pred_user_ids), pred_user_ids))"
   ],
   "outputs": [
    {
     "name": "stdout",
     "output_type": "stream",
     "text": [
      "We can predict for 20 users: [2917, 3024, 3093, 3193, 3527, 3532, 3684, 3740, 3777, 3801, 3968, 3989, 3990, 3998, 4002, 4204, 4231, 4274, 4293, 4487]\n"
     ]
    }
   ],
   "execution_count": 71
  },
  {
   "metadata": {
    "ExecuteTime": {
     "end_time": "2025-03-05T17:12:29.470504Z",
     "start_time": "2025-03-05T17:12:29.468752Z"
    }
   },
   "cell_type": "code",
   "source": "common_users = np.intersect1d(user_item_train.index, user_item_test.index)",
   "outputs": [],
   "execution_count": 72
  },
  {
   "metadata": {
    "ExecuteTime": {
     "end_time": "2025-03-05T17:12:29.496776Z",
     "start_time": "2025-03-05T17:12:29.494558Z"
    }
   },
   "cell_type": "code",
   "source": [
    "common_articles = np.intersect1d(user_item_train.columns, user_item_test.columns)\n",
    "len(common_articles)"
   ],
   "outputs": [
    {
     "data": {
      "text/plain": [
       "574"
      ]
     },
     "execution_count": 73,
     "metadata": {},
     "output_type": "execute_result"
    }
   ],
   "execution_count": 73
  },
  {
   "metadata": {
    "ExecuteTime": {
     "end_time": "2025-03-05T17:12:29.516386Z",
     "start_time": "2025-03-05T17:12:29.514290Z"
    }
   },
   "cell_type": "code",
   "source": [
    "# 2. How many users in the test set are we not able\n",
    "# to make predictions for because of the cold start problem?\n",
    "# How many users are in the test dataset\n",
    "len(test_idx) - len(pred_user_ids)"
   ],
   "outputs": [
    {
     "data": {
      "text/plain": [
       "662"
      ]
     },
     "execution_count": 74,
     "metadata": {},
     "output_type": "execute_result"
    }
   ],
   "execution_count": 74
  },
  {
   "metadata": {
    "ExecuteTime": {
     "end_time": "2025-03-05T17:12:29.561340Z",
     "start_time": "2025-03-05T17:12:29.557502Z"
    }
   },
   "cell_type": "code",
   "source": [
    "# 3. How many articles can we make predictions for in the test set?\n",
    "# How many articles in the test dataset are also in the training dataset?\n",
    "# (We can only make predictions for these)\n",
    "user_item_train.loc[:, test_arts].shape[1]"
   ],
   "outputs": [
    {
     "data": {
      "text/plain": [
       "574"
      ]
     },
     "execution_count": 75,
     "metadata": {},
     "output_type": "execute_result"
    }
   ],
   "execution_count": 75
  },
  {
   "metadata": {
    "ExecuteTime": {
     "end_time": "2025-03-05T17:12:29.589455Z",
     "start_time": "2025-03-05T17:12:29.585642Z"
    }
   },
   "cell_type": "code",
   "source": [
    "# 4. How many articles in the test set are we not able\n",
    "# to make predictions for because of the cold start problem?\n",
    "len(test_arts) - user_item_train.loc[:, test_arts].shape[1]"
   ],
   "outputs": [
    {
     "data": {
      "text/plain": [
       "0"
      ]
     },
     "execution_count": 76,
     "metadata": {},
     "output_type": "execute_result"
    }
   ],
   "execution_count": 76
  },
  {
   "cell_type": "code",
   "metadata": {
    "collapsed": true,
    "jupyter": {
     "outputs_hidden": true
    },
    "ExecuteTime": {
     "end_time": "2025-03-05T17:12:29.609714Z",
     "start_time": "2025-03-05T17:12:29.607517Z"
    }
   },
   "source": [
    "# Replace the values in the dictionary below\n",
    "a = 662 \n",
    "b = 574 \n",
    "c = 20 \n",
    "d = 0 \n",
    "\n",
    "sol_4_dict = {\n",
    "    'How many users can we make predictions for in the test set?': c,\n",
    "    'How many users in the test set are we not able to make predictions for because of the cold start problem?': a,\n",
    "    'How many articles can we make predictions for in the test set?': b,\n",
    "    'How many articles in the test set are we not able to make predictions for because of the cold start problem?': d,\n",
    "}\n",
    "\n",
    "t.sol_4_test(sol_4_dict)"
   ],
   "outputs": [
    {
     "name": "stdout",
     "output_type": "stream",
     "text": [
      "Awesome job!  That's right!  All of the test articles are in the training data, but there are only 20 test users that were also in the training set.  All of the other users that are in the test set we have no data on.  Therefore, we cannot make predictions for these users using SVD.\n"
     ]
    }
   ],
   "execution_count": 77
  },
  {
   "cell_type": "markdown",
   "metadata": {},
   "source": [
    "`5.` Now use the **user_item_train** dataset from above to find U, S, and V transpose using SVD. Then find the subset of rows in the **user_item_test** dataset that you can predict using this matrix decomposition with different numbers of latent features to see how many features makes sense to keep based on the accuracy on the test data. This will require combining what was done in questions `2` - `4`.\n",
    "\n",
    "Use the cells below to explore how well SVD works towards making predictions for recommendations on the test data."
   ]
  },
  {
   "metadata": {
    "ExecuteTime": {
     "end_time": "2025-03-05T17:12:29.655716Z",
     "start_time": "2025-03-05T17:12:29.651565Z"
    }
   },
   "cell_type": "code",
   "source": [
    "# Lets make sure we corrected historical data correctly focussing on 1 user\n",
    "compare = pd.DataFrame({'train': user_item_train.loc[4487, test_arts], 'test': user_item_test.loc[4487, test_arts]})\n",
    "compare = compare.loc[~(compare==0).all(axis=1)]\n",
    "compare"
   ],
   "outputs": [
    {
     "data": {
      "text/plain": [
       "            train  test\n",
       "article_id             \n",
       "8               1     1\n",
       "411             1     1\n",
       "470             1     1\n",
       "477             1     1\n",
       "542             1     1\n",
       "730             1     1\n",
       "903             1     1\n",
       "1053            0     1\n",
       "1166            1     1\n",
       "1176            0     1\n",
       "1184            1     1\n",
       "1274            1     1\n",
       "1314            1     1\n",
       "1416            1     1\n",
       "1423            1     1\n",
       "1424            0     1\n",
       "1431            1     1"
      ],
      "text/html": [
       "<div>\n",
       "<style scoped>\n",
       "    .dataframe tbody tr th:only-of-type {\n",
       "        vertical-align: middle;\n",
       "    }\n",
       "\n",
       "    .dataframe tbody tr th {\n",
       "        vertical-align: top;\n",
       "    }\n",
       "\n",
       "    .dataframe thead th {\n",
       "        text-align: right;\n",
       "    }\n",
       "</style>\n",
       "<table border=\"1\" class=\"dataframe\">\n",
       "  <thead>\n",
       "    <tr style=\"text-align: right;\">\n",
       "      <th></th>\n",
       "      <th>train</th>\n",
       "      <th>test</th>\n",
       "    </tr>\n",
       "    <tr>\n",
       "      <th>article_id</th>\n",
       "      <th></th>\n",
       "      <th></th>\n",
       "    </tr>\n",
       "  </thead>\n",
       "  <tbody>\n",
       "    <tr>\n",
       "      <th>8</th>\n",
       "      <td>1</td>\n",
       "      <td>1</td>\n",
       "    </tr>\n",
       "    <tr>\n",
       "      <th>411</th>\n",
       "      <td>1</td>\n",
       "      <td>1</td>\n",
       "    </tr>\n",
       "    <tr>\n",
       "      <th>470</th>\n",
       "      <td>1</td>\n",
       "      <td>1</td>\n",
       "    </tr>\n",
       "    <tr>\n",
       "      <th>477</th>\n",
       "      <td>1</td>\n",
       "      <td>1</td>\n",
       "    </tr>\n",
       "    <tr>\n",
       "      <th>542</th>\n",
       "      <td>1</td>\n",
       "      <td>1</td>\n",
       "    </tr>\n",
       "    <tr>\n",
       "      <th>730</th>\n",
       "      <td>1</td>\n",
       "      <td>1</td>\n",
       "    </tr>\n",
       "    <tr>\n",
       "      <th>903</th>\n",
       "      <td>1</td>\n",
       "      <td>1</td>\n",
       "    </tr>\n",
       "    <tr>\n",
       "      <th>1053</th>\n",
       "      <td>0</td>\n",
       "      <td>1</td>\n",
       "    </tr>\n",
       "    <tr>\n",
       "      <th>1166</th>\n",
       "      <td>1</td>\n",
       "      <td>1</td>\n",
       "    </tr>\n",
       "    <tr>\n",
       "      <th>1176</th>\n",
       "      <td>0</td>\n",
       "      <td>1</td>\n",
       "    </tr>\n",
       "    <tr>\n",
       "      <th>1184</th>\n",
       "      <td>1</td>\n",
       "      <td>1</td>\n",
       "    </tr>\n",
       "    <tr>\n",
       "      <th>1274</th>\n",
       "      <td>1</td>\n",
       "      <td>1</td>\n",
       "    </tr>\n",
       "    <tr>\n",
       "      <th>1314</th>\n",
       "      <td>1</td>\n",
       "      <td>1</td>\n",
       "    </tr>\n",
       "    <tr>\n",
       "      <th>1416</th>\n",
       "      <td>1</td>\n",
       "      <td>1</td>\n",
       "    </tr>\n",
       "    <tr>\n",
       "      <th>1423</th>\n",
       "      <td>1</td>\n",
       "      <td>1</td>\n",
       "    </tr>\n",
       "    <tr>\n",
       "      <th>1424</th>\n",
       "      <td>0</td>\n",
       "      <td>1</td>\n",
       "    </tr>\n",
       "    <tr>\n",
       "      <th>1431</th>\n",
       "      <td>1</td>\n",
       "      <td>1</td>\n",
       "    </tr>\n",
       "  </tbody>\n",
       "</table>\n",
       "</div>"
      ]
     },
     "execution_count": 78,
     "metadata": {},
     "output_type": "execute_result"
    }
   ],
   "execution_count": 78
  },
  {
   "metadata": {
    "ExecuteTime": {
     "end_time": "2025-03-05T17:12:29.696360Z",
     "start_time": "2025-03-05T17:12:29.694075Z"
    }
   },
   "cell_type": "code",
   "source": "compare.sum()",
   "outputs": [
    {
     "data": {
      "text/plain": [
       "train    14\n",
       "test     17\n",
       "dtype: int64"
      ]
     },
     "execution_count": 79,
     "metadata": {},
     "output_type": "execute_result"
    }
   ],
   "execution_count": 79
  },
  {
   "metadata": {
    "ExecuteTime": {
     "end_time": "2025-03-05T17:13:04.897877Z",
     "start_time": "2025-03-05T17:12:29.719686Z"
    }
   },
   "cell_type": "code",
   "source": [
    "def determine_latent_features(df_train, df_test, test_idx=test_idx, test_arts=test_arts):\n",
    "    \"\"\"\n",
    "    Determine how many SVD latent features maximizes accuracy and MSE the best.\n",
    "\n",
    "    Use the train dataset to find U, S, and V transpose using SVD.\n",
    "    Then find the subset of rows in the test dataset\n",
    "    that you can predict\n",
    "    using this matrix decomposition with different numbers of latent features\n",
    "    to see how many features makes sense\n",
    "    to keep based on the accuracy and mse on the test data.\n",
    "\n",
    "    INPUT:\n",
    "    df_train - training dataframe\n",
    "    df_test - test dataframe\n",
    "    test_idx - test user ids present in both test and training datasets (rows)\n",
    "    test_arts - test articles ids present in both test and training datasets (columns)\n",
    "\n",
    "    OUTPUT:\n",
    "    num_latent_feats: array of k latent features used for prediction\n",
    "    sum_errs:\n",
    "    list containing accuracy by nr of latent features used\n",
    "    mse: list containing mse by nr of latent features used\n",
    "    \"\"\"\n",
    "\n",
    "    num_latent_feats = np.arange(10, len(common_articles)+10, 50)\n",
    "    train_acc_errs = []\n",
    "    test_acc_errs = []\n",
    "    train_mse = []\n",
    "    test_mse = []\n",
    "\n",
    "    for k in num_latent_feats:\n",
    "\n",
    "        # TRAINING PREDICTIONS\n",
    "        # Decompose the matrix using training dataset with SVD with k latent features\n",
    "        u_train, s_train, vt_train = svds(np.array(df_train), k=k)\n",
    "\n",
    "        # correct shape of s (latent features)\n",
    "        s_train = np.diag(s_train)\n",
    "\n",
    "        # predict if user will read the article using dot product\n",
    "        training_prediction = np.around(np.dot(np.dot(u_train, s_train), vt_train), 0)\n",
    "\n",
    "        # compute error for each prediction to actual value\n",
    "        train_difference = np.subtract(df_train, training_prediction)\n",
    "\n",
    "        # total errors and keep track of them\n",
    "        # accuracy\n",
    "        train_acc_err = np.sum(np.sum(np.abs(train_difference), axis=0), axis=0)\n",
    "        train_acc_err = 1 - (train_acc_err / (training_prediction.shape[0]*training_prediction.shape[1]))\n",
    "        train_acc_errs.append(train_acc_err)\n",
    "\n",
    "        # mse error\n",
    "        train_mse_err = mean_squared_error(df_train, training_prediction)\n",
    "        train_mse.append(train_mse_err)\n",
    "\n",
    "        # TESTING PREDICTIONS\n",
    "        # filter training dataset predictions to only common users and articles\n",
    "        # (one could also directly just filter the training predictions)\n",
    "        row_idx = df_train.index.isin(test_idx)\n",
    "        col_idx = df_train.columns.isin(test_arts)\n",
    "        u_test = u_train[row_idx, :]\n",
    "        vt_test = vt_train[:, col_idx]\n",
    "        testing_prediction = np.around(np.dot(np.dot(u_test, s_train), vt_test), 0)\n",
    "        test_difference = np.subtract(df_test, testing_prediction)\n",
    "\n",
    "        # total errors and keep track of them\n",
    "        # accuracy\n",
    "        test_acc_err = np.sum(np.sum(np.abs(test_difference), axis=0), axis=0)\n",
    "        test_acc_err = 1 - (test_acc_err / (testing_prediction.shape[0] * testing_prediction.shape[1]))\n",
    "        test_acc_errs.append(test_acc_err)\n",
    "\n",
    "        # mse\n",
    "        test_mse_err = mean_squared_error(df_test, testing_prediction)\n",
    "        test_mse.append(test_mse_err)\n",
    "\n",
    "    return num_latent_feats, train_acc_errs, test_acc_errs, train_mse, test_mse\n",
    "\n",
    "num_latent_feats, train_acc_errs, test_acc_errs, train_mse, test_mse = determine_latent_features(user_item_train, user_item_test, test_idx)"
   ],
   "outputs": [],
   "execution_count": 80
  },
  {
   "metadata": {
    "ExecuteTime": {
     "end_time": "2025-03-05T17:13:04.972902Z",
     "start_time": "2025-03-05T17:13:04.903225Z"
    }
   },
   "cell_type": "code",
   "source": [
    "plt.plot(num_latent_feats, train_acc_errs, label='training')\n",
    "plt.plot(num_latent_feats, test_acc_errs, label='testing')\n",
    "plt.xlabel('Number of Latent Features')\n",
    "plt.ylabel('Accuracy')\n",
    "plt.title('Accuracy vs. Number of Latent Features')\n",
    "plt.legend()\n",
    "plt.show()"
   ],
   "outputs": [
    {
     "data": {
      "text/plain": [
       "<Figure size 640x480 with 1 Axes>"
      ],
      "image/png": "[encoded data removed]"
     },
     "metadata": {},
     "output_type": "display_data"
    }
   ],
   "execution_count": 81
  },
  {
   "metadata": {
    "ExecuteTime": {
     "end_time": "2025-03-05T17:13:05.093949Z",
     "start_time": "2025-03-05T17:13:05.002491Z"
    }
   },
   "cell_type": "code",
   "source": [
    "# plt.plot(num_latent_feats, 1 - np.array(sum_errs)/df.shape[0])\n",
    "plt.plot(num_latent_feats, train_mse, label='training')\n",
    "plt.plot(num_latent_feats, test_mse, label='testing')\n",
    "plt.xlabel('Number of Latent Features')\n",
    "plt.ylabel('MSE')\n",
    "plt.title('MSE vs. Number of Latent Features')\n",
    "plt.legend()\n",
    "plt.show()"
   ],
   "outputs": [
    {
     "data": {
      "text/plain": [
       "<Figure size 640x480 with 1 Axes>"
      ],
      "image/png": "[encoded data removed]"
     },
     "metadata": {},
     "output_type": "display_data"
    }
   ],
   "execution_count": 82
  },
  {
   "cell_type": "markdown",
   "metadata": {
    "collapsed": true,
    "jupyter": {
     "outputs_hidden": true
    }
   },
   "source": [
    "`6.` Use the cell below to comment on the results you found in the previous question. Given the circumstances of your results, discuss what you might do to determine if the recommendations you make with any of the above recommendation systems are an improvement to how users currently find articles? "
   ]
  },
  {
   "cell_type": "markdown",
   "metadata": {},
   "source": [
    "**Your response here.**\n",
    "\n",
    "The following steps were followed to predict which documents a user might like:\n",
    "1. Split data into training and testing datasets.\n",
    "*  Filter the testing dataset to contain only common users and articles in both training and testing datasets.\n",
    "*  Correct historical data in the testing dataset. If a user read a document in the past in the training dataset, set it to read in the testing dataset too.\n",
    "\n",
    "2.  Prediction\n",
    "The full training dataset is used with all users and articles\n",
    "to find all latent features\n",
    "that describes the underlying relationships and patterns in the data.\n",
    "\n",
    "3.  Evaluate\n",
    "Once we established all the relationships during the training steps,\n",
    "we can use it to predict more accurately user preferences using the test dataset.\n",
    "The training predictions are filtered\n",
    "to only include the common users and articles in both datasets.\n",
    "These predictions are compared to the test dataset to calculate accuracy and MSE error\n",
    "\n",
    "<br>**Conclusions on predictions:**\n",
    "\n",
    "- Both the training and testing predictions show improvement in accuracy\n",
    "as the latent features increase.\n",
    "Note: If we do not correct historical data in the test dataset,\n",
    "it gives a false impression that the accuracy goes down, because\n",
    "read documents in the past show as '0' and are compared against predicted values of '1'.\n",
    "\n",
    "- MSE error goes down as latent features increase.\n",
    "\n",
    "- 300 Latent features looks like a good feature selection to use,\n",
    "as improvement slows down after this.\n",
    "\n",
    "<br>**How to proof if recommendations are an improvement to how users find articles?**\n",
    "\n",
    "Use A/B testing to compare recommendations with users' natural behavior.\n",
    "Metrics: Number of documents interacted with per user\n",
    "\n",
    "Divide users with low interactions randomly into two groups.\n",
    "Group A receives no recommendations and group B receives recommendations.\n",
    "\n",
    "In Part I above,\n",
    "we observed that users up to the 75th percentile only interacted with nine documents.\n",
    "Can we improve this interaction?\n",
    "Filter data using the first 75th percentile only,\n",
    "to exclude users that interacts frequently anyhow to avoid bias.\n",
    "Divide these filtered users into each group randomly.\n",
    "\n",
    "<br>**Hypothesis test for Invariant Metric:**<br>\n",
    "Before we start our experiment,\n",
    "make sure the two groups have users who behave similarly.\n",
    "Make sure the average interactions are not significantly different between the two groups.\n",
    "Significance level is 0.05\n",
    "\n",
    "$H_0: A_{avg_interactions} - A_{avg_interactions}> = 0$\n",
    "\n",
    "$H_1: B_{avg_interactions} - A_{avg_interactions}> <> 0$\n",
    "\n",
    "\n",
    "<br>**Hypothesis to test recommendation improvement:**<br>\n",
    "Ideally we would like\n",
    "to see an improvement in interactions in group B\n",
    "that received recommendations.\n",
    "The significance level is 0.05\n",
    "\n",
    "<br>$H_0: B_{interactions} - A_{interactions}> <= 0$\n",
    "\n",
    "$H_1: B_{interactions} - A_{interactions}> > 0$\n"
   ]
  },
  {
   "cell_type": "markdown",
   "metadata": {
    "collapsed": true,
    "jupyter": {
     "outputs_hidden": true
    }
   },
   "source": [
    "<a id='conclusions'></a>\n",
    "### Extras\n",
    "Using your workbook, you could now save your recommendations for each user, develop a class to make new predictions and update your results, and make a flask app to deploy your results.  These tasks are beyond what is required for this project.  However, from what you learned in the lessons, you certainly capable of taking these tasks on to improve upon your work here!\n",
    "\n",
    "\n",
    "## Conclusion\n",
    "\n",
    "> Congratulations!  You have reached the end of the Recommendations with IBM project! \n",
    "\n",
    "> **Tip**: Once you are satisfied with your work here, check over your report to make sure that it is satisfies all the areas of the [rubric](https://review.udacity.com/#!/rubrics/2322/view). You should also probably remove all of the \"Tips\" like this one so that the presentation is as polished as possible.\n",
    "\n",
    "\n",
    "## Directions to Submit\n",
    "\n",
    "> Before you submit your project, you need to create a .html or .pdf version of this notebook in the workspace here. To do that, run the code cell below. If it worked correctly, you should get a return code of 0, and you should see the generated .html file in the workspace directory (click on the orange Jupyter icon in the upper left).\n",
    "\n",
    "> Alternatively, you can download this report as .html via the **File** > **Download as** submenu, and then manually upload it into the workspace directory by clicking on the orange Jupyter icon in the upper left, then using the Upload button.\n",
    "\n",
    "> Once you've done this, you can submit your project by clicking on the \"Submit Project\" button in the lower right here. This will create and submit a zip file with this .ipynb doc and the .html or .pdf version you created. Congratulations! "
   ]
  },
  {
   "cell_type": "code",
   "metadata": {
    "collapsed": true,
    "jupyter": {
     "outputs_hidden": true
    },
    "ExecuteTime": {
     "end_time": "2025-03-05T17:13:05.571469Z",
     "start_time": "2025-03-05T17:13:05.126393Z"
    }
   },
   "source": [
    "from subprocess import call\n",
    "call(['python', '-m', 'nbconvert', 'Recommendations_with_IBM.ipynb'])"
   ],
   "outputs": [
    {
     "name": "stderr",
     "output_type": "stream",
     "text": [
      "Traceback (most recent call last):\n",
      "  File \"/opt/anaconda3/envs/recommendations/lib/python3.10/runpy.py\", line 196, in _run_module_as_main\n",
      "    return _run_code(code, main_globals, None,\n",
      "  File \"/opt/anaconda3/envs/recommendations/lib/python3.10/runpy.py\", line 86, in _run_code\n",
      "    exec(code, run_globals)\n",
      "  File \"/opt/anaconda3/envs/recommendations/lib/python3.10/site-packages/nbconvert/__main__.py\", line 5, in <module>\n",
      "    main()\n",
      "  File \"/opt/anaconda3/envs/recommendations/lib/python3.10/site-packages/jupyter_core/application.py\", line 283, in launch_instance\n",
      "    super().launch_instance(argv=argv, **kwargs)\n",
      "  File \"/opt/anaconda3/envs/recommendations/lib/python3.10/site-packages/traitlets/config/application.py\", line 1075, in launch_instance\n",
      "    app.start()\n",
      "  File \"/opt/anaconda3/envs/recommendations/lib/python3.10/site-packages/nbconvert/nbconvertapp.py\", line 420, in start\n",
      "    self.convert_notebooks()\n",
      "  File \"/opt/anaconda3/envs/recommendations/lib/python3.10/site-packages/nbconvert/nbconvertapp.py\", line 582, in convert_notebooks\n",
      "    raise ValueError(msg)\n",
      "ValueError: Please specify an output format with '--to <format>'.\n",
      "The following formats are available: ['asciidoc', 'custom', 'html', 'latex', 'markdown', 'notebook', 'pdf', 'python', 'qtpdf', 'qtpng', 'rst', 'script', 'slides', 'webpdf']\n"
     ]
    },
    {
     "data": {
      "text/plain": [
       "1"
      ]
     },
     "execution_count": 83,
     "metadata": {},
     "output_type": "execute_result"
    }
   ],
   "execution_count": 83
  },
  {
   "cell_type": "code",
   "metadata": {
    "ExecuteTime": {
     "end_time": "2025-03-05T17:13:05.575830Z",
     "start_time": "2025-03-05T17:13:05.574530Z"
    }
   },
   "source": [],
   "outputs": [],
   "execution_count": null
  }
 ],
 "metadata": {
  "kernelspec": {
   "display_name": "Python [conda env:recommendations] *",
   "language": "python",
   "name": "conda-env-recommendations-py"
  },
  "language_info": {
   "codemirror_mode": {
    "name": "ipython",
    "version": 3
   },
   "file_extension": ".py",
   "mimetype": "text/x-python",
   "name": "python",
   "nbconvert_exporter": "python",
   "pygments_lexer": "ipython3",
   "version": "3.10.16"
  }
 },
 "nbformat": 4,
 "nbformat_minor": 4
}
